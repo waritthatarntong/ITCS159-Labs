{
 "cells": [
  {
   "cell_type": "markdown",
   "id": "e2b1cfcb",
   "metadata": {},
   "source": [
    "# Exercise\n",
    "\n",
    "\n",
    "\n"
   ]
  },
  {
   "cell_type": "markdown",
   "id": "d1577da4",
   "metadata": {},
   "source": [
    "### Exercise 1:\n",
    "Let's look at another column in this DataFrame, YEAR, which represents the year each respondent was interviewed.\n",
    "\n",
    "Make an unnormalized PMF for YEAR and display the result. How many respondents were interviewed in 2018?\n",
    "\n",
    "In which year was the repondents is largest, answer by build logic statement. "
   ]
  },
  {
   "cell_type": "code",
   "execution_count": 1,
   "id": "ae2629f1",
   "metadata": {},
   "outputs": [],
   "source": [
    "try:\n",
    "    from statadict import parse_stata_dict\n",
    "except ImportError:\n",
    "    !pip install statadict"
   ]
  },
  {
   "cell_type": "code",
   "execution_count": 2,
   "id": "da40a1f1",
   "metadata": {},
   "outputs": [],
   "source": [
    "# Read data dictionary\n",
    "import gzip\n",
    "\n",
    "dict_file = 'GSS.dct'\n",
    "data_file = 'GSS.dat.gz'\n",
    "\n",
    "stata_dict = parse_stata_dict(dict_file)\n",
    "\n",
    "fp = gzip.open(data_file)"
   ]
  },
  {
   "cell_type": "code",
   "execution_count": 3,
   "id": "dc28566a",
   "metadata": {},
   "outputs": [
    {
     "data": {
      "text/html": [
       "<div>\n",
       "<style scoped>\n",
       "    .dataframe tbody tr th:only-of-type {\n",
       "        vertical-align: middle;\n",
       "    }\n",
       "\n",
       "    .dataframe tbody tr th {\n",
       "        vertical-align: top;\n",
       "    }\n",
       "\n",
       "    .dataframe thead th {\n",
       "        text-align: right;\n",
       "    }\n",
       "</style>\n",
       "<table border=\"1\" class=\"dataframe\">\n",
       "  <thead>\n",
       "    <tr style=\"text-align: right;\">\n",
       "      <th></th>\n",
       "      <th>YEAR</th>\n",
       "      <th>ID_</th>\n",
       "      <th>AGE</th>\n",
       "      <th>EDUC</th>\n",
       "      <th>SEX</th>\n",
       "      <th>GUNLAW</th>\n",
       "      <th>GRASS</th>\n",
       "      <th>REALINC</th>\n",
       "    </tr>\n",
       "  </thead>\n",
       "  <tbody>\n",
       "    <tr>\n",
       "      <th>0</th>\n",
       "      <td>1972</td>\n",
       "      <td>1</td>\n",
       "      <td>23</td>\n",
       "      <td>16</td>\n",
       "      <td>2</td>\n",
       "      <td>1</td>\n",
       "      <td>0</td>\n",
       "      <td>18951.0</td>\n",
       "    </tr>\n",
       "    <tr>\n",
       "      <th>1</th>\n",
       "      <td>1972</td>\n",
       "      <td>2</td>\n",
       "      <td>70</td>\n",
       "      <td>10</td>\n",
       "      <td>1</td>\n",
       "      <td>1</td>\n",
       "      <td>0</td>\n",
       "      <td>24366.0</td>\n",
       "    </tr>\n",
       "    <tr>\n",
       "      <th>2</th>\n",
       "      <td>1972</td>\n",
       "      <td>3</td>\n",
       "      <td>48</td>\n",
       "      <td>12</td>\n",
       "      <td>2</td>\n",
       "      <td>1</td>\n",
       "      <td>0</td>\n",
       "      <td>24366.0</td>\n",
       "    </tr>\n",
       "    <tr>\n",
       "      <th>3</th>\n",
       "      <td>1972</td>\n",
       "      <td>4</td>\n",
       "      <td>27</td>\n",
       "      <td>17</td>\n",
       "      <td>2</td>\n",
       "      <td>1</td>\n",
       "      <td>0</td>\n",
       "      <td>30458.0</td>\n",
       "    </tr>\n",
       "    <tr>\n",
       "      <th>4</th>\n",
       "      <td>1972</td>\n",
       "      <td>5</td>\n",
       "      <td>61</td>\n",
       "      <td>12</td>\n",
       "      <td>2</td>\n",
       "      <td>1</td>\n",
       "      <td>0</td>\n",
       "      <td>50763.0</td>\n",
       "    </tr>\n",
       "    <tr>\n",
       "      <th>...</th>\n",
       "      <td>...</td>\n",
       "      <td>...</td>\n",
       "      <td>...</td>\n",
       "      <td>...</td>\n",
       "      <td>...</td>\n",
       "      <td>...</td>\n",
       "      <td>...</td>\n",
       "      <td>...</td>\n",
       "    </tr>\n",
       "    <tr>\n",
       "      <th>64809</th>\n",
       "      <td>2018</td>\n",
       "      <td>2344</td>\n",
       "      <td>37</td>\n",
       "      <td>12</td>\n",
       "      <td>2</td>\n",
       "      <td>2</td>\n",
       "      <td>0</td>\n",
       "      <td>0.0</td>\n",
       "    </tr>\n",
       "    <tr>\n",
       "      <th>64810</th>\n",
       "      <td>2018</td>\n",
       "      <td>2345</td>\n",
       "      <td>75</td>\n",
       "      <td>12</td>\n",
       "      <td>2</td>\n",
       "      <td>2</td>\n",
       "      <td>0</td>\n",
       "      <td>14755.0</td>\n",
       "    </tr>\n",
       "    <tr>\n",
       "      <th>64811</th>\n",
       "      <td>2018</td>\n",
       "      <td>2346</td>\n",
       "      <td>67</td>\n",
       "      <td>12</td>\n",
       "      <td>2</td>\n",
       "      <td>1</td>\n",
       "      <td>1</td>\n",
       "      <td>45400.0</td>\n",
       "    </tr>\n",
       "    <tr>\n",
       "      <th>64812</th>\n",
       "      <td>2018</td>\n",
       "      <td>2347</td>\n",
       "      <td>72</td>\n",
       "      <td>16</td>\n",
       "      <td>1</td>\n",
       "      <td>0</td>\n",
       "      <td>2</td>\n",
       "      <td>24970.0</td>\n",
       "    </tr>\n",
       "    <tr>\n",
       "      <th>64813</th>\n",
       "      <td>2018</td>\n",
       "      <td>2348</td>\n",
       "      <td>79</td>\n",
       "      <td>12</td>\n",
       "      <td>2</td>\n",
       "      <td>1</td>\n",
       "      <td>0</td>\n",
       "      <td>0.0</td>\n",
       "    </tr>\n",
       "  </tbody>\n",
       "</table>\n",
       "<p>64814 rows × 8 columns</p>\n",
       "</div>"
      ],
      "text/plain": [
       "       YEAR   ID_  AGE  EDUC  SEX  GUNLAW  GRASS  REALINC\n",
       "0      1972     1   23    16    2       1      0  18951.0\n",
       "1      1972     2   70    10    1       1      0  24366.0\n",
       "2      1972     3   48    12    2       1      0  24366.0\n",
       "3      1972     4   27    17    2       1      0  30458.0\n",
       "4      1972     5   61    12    2       1      0  50763.0\n",
       "...     ...   ...  ...   ...  ...     ...    ...      ...\n",
       "64809  2018  2344   37    12    2       2      0      0.0\n",
       "64810  2018  2345   75    12    2       2      0  14755.0\n",
       "64811  2018  2346   67    12    2       1      1  45400.0\n",
       "64812  2018  2347   72    16    1       0      2  24970.0\n",
       "64813  2018  2348   79    12    2       1      0      0.0\n",
       "\n",
       "[64814 rows x 8 columns]"
      ]
     },
     "execution_count": 3,
     "metadata": {},
     "output_type": "execute_result"
    }
   ],
   "source": [
    "import pandas as pd\n",
    "\n",
    "gss = pd.read_fwf(fp, \n",
    "                  names=stata_dict.names, \n",
    "                  colspecs=stata_dict.colspecs)\n",
    "gss"
   ]
  },
  {
   "cell_type": "code",
   "execution_count": 4,
   "id": "6a109ee0",
   "metadata": {},
   "outputs": [
    {
     "data": {
      "text/html": [
       "<div>\n",
       "<style scoped>\n",
       "    .dataframe tbody tr th:only-of-type {\n",
       "        vertical-align: middle;\n",
       "    }\n",
       "\n",
       "    .dataframe tbody tr th {\n",
       "        vertical-align: top;\n",
       "    }\n",
       "\n",
       "    .dataframe thead th {\n",
       "        text-align: right;\n",
       "    }\n",
       "</style>\n",
       "<table border=\"1\" class=\"dataframe\">\n",
       "  <thead>\n",
       "    <tr style=\"text-align: right;\">\n",
       "      <th></th>\n",
       "      <th>probs</th>\n",
       "    </tr>\n",
       "  </thead>\n",
       "  <tbody>\n",
       "    <tr>\n",
       "      <th>1972</th>\n",
       "      <td>1613</td>\n",
       "    </tr>\n",
       "    <tr>\n",
       "      <th>1973</th>\n",
       "      <td>1504</td>\n",
       "    </tr>\n",
       "    <tr>\n",
       "      <th>1974</th>\n",
       "      <td>1484</td>\n",
       "    </tr>\n",
       "    <tr>\n",
       "      <th>1975</th>\n",
       "      <td>1490</td>\n",
       "    </tr>\n",
       "    <tr>\n",
       "      <th>1976</th>\n",
       "      <td>1499</td>\n",
       "    </tr>\n",
       "    <tr>\n",
       "      <th>1977</th>\n",
       "      <td>1530</td>\n",
       "    </tr>\n",
       "    <tr>\n",
       "      <th>1978</th>\n",
       "      <td>1532</td>\n",
       "    </tr>\n",
       "    <tr>\n",
       "      <th>1980</th>\n",
       "      <td>1468</td>\n",
       "    </tr>\n",
       "    <tr>\n",
       "      <th>1982</th>\n",
       "      <td>1860</td>\n",
       "    </tr>\n",
       "    <tr>\n",
       "      <th>1983</th>\n",
       "      <td>1599</td>\n",
       "    </tr>\n",
       "    <tr>\n",
       "      <th>1984</th>\n",
       "      <td>1473</td>\n",
       "    </tr>\n",
       "    <tr>\n",
       "      <th>1985</th>\n",
       "      <td>1534</td>\n",
       "    </tr>\n",
       "    <tr>\n",
       "      <th>1986</th>\n",
       "      <td>1470</td>\n",
       "    </tr>\n",
       "    <tr>\n",
       "      <th>1987</th>\n",
       "      <td>1819</td>\n",
       "    </tr>\n",
       "    <tr>\n",
       "      <th>1988</th>\n",
       "      <td>1481</td>\n",
       "    </tr>\n",
       "    <tr>\n",
       "      <th>1989</th>\n",
       "      <td>1537</td>\n",
       "    </tr>\n",
       "    <tr>\n",
       "      <th>1990</th>\n",
       "      <td>1372</td>\n",
       "    </tr>\n",
       "    <tr>\n",
       "      <th>1991</th>\n",
       "      <td>1517</td>\n",
       "    </tr>\n",
       "    <tr>\n",
       "      <th>1993</th>\n",
       "      <td>1606</td>\n",
       "    </tr>\n",
       "    <tr>\n",
       "      <th>1994</th>\n",
       "      <td>2992</td>\n",
       "    </tr>\n",
       "    <tr>\n",
       "      <th>1996</th>\n",
       "      <td>2904</td>\n",
       "    </tr>\n",
       "    <tr>\n",
       "      <th>1998</th>\n",
       "      <td>2832</td>\n",
       "    </tr>\n",
       "    <tr>\n",
       "      <th>2000</th>\n",
       "      <td>2817</td>\n",
       "    </tr>\n",
       "    <tr>\n",
       "      <th>2002</th>\n",
       "      <td>2765</td>\n",
       "    </tr>\n",
       "    <tr>\n",
       "      <th>2004</th>\n",
       "      <td>2812</td>\n",
       "    </tr>\n",
       "    <tr>\n",
       "      <th>2006</th>\n",
       "      <td>4510</td>\n",
       "    </tr>\n",
       "    <tr>\n",
       "      <th>2008</th>\n",
       "      <td>2023</td>\n",
       "    </tr>\n",
       "    <tr>\n",
       "      <th>2010</th>\n",
       "      <td>2044</td>\n",
       "    </tr>\n",
       "    <tr>\n",
       "      <th>2012</th>\n",
       "      <td>1974</td>\n",
       "    </tr>\n",
       "    <tr>\n",
       "      <th>2014</th>\n",
       "      <td>2538</td>\n",
       "    </tr>\n",
       "    <tr>\n",
       "      <th>2016</th>\n",
       "      <td>2867</td>\n",
       "    </tr>\n",
       "    <tr>\n",
       "      <th>2018</th>\n",
       "      <td>2348</td>\n",
       "    </tr>\n",
       "  </tbody>\n",
       "</table>\n",
       "</div>"
      ],
      "text/plain": [
       "1972    1613\n",
       "1973    1504\n",
       "1974    1484\n",
       "1975    1490\n",
       "1976    1499\n",
       "1977    1530\n",
       "1978    1532\n",
       "1980    1468\n",
       "1982    1860\n",
       "1983    1599\n",
       "1984    1473\n",
       "1985    1534\n",
       "1986    1470\n",
       "1987    1819\n",
       "1988    1481\n",
       "1989    1537\n",
       "1990    1372\n",
       "1991    1517\n",
       "1993    1606\n",
       "1994    2992\n",
       "1996    2904\n",
       "1998    2832\n",
       "2000    2817\n",
       "2002    2765\n",
       "2004    2812\n",
       "2006    4510\n",
       "2008    2023\n",
       "2010    2044\n",
       "2012    1974\n",
       "2014    2538\n",
       "2016    2867\n",
       "2018    2348\n",
       "Name: , dtype: int64"
      ]
     },
     "execution_count": 4,
     "metadata": {},
     "output_type": "execute_result"
    }
   ],
   "source": [
    "# Frequency table\n",
    "from empiricaldist import Pmf\n",
    "\n",
    "year = gss['YEAR']\n",
    "pmf_year = Pmf.from_seq(year, normalize=False)\n",
    "pmf_year"
   ]
  },
  {
   "cell_type": "code",
   "execution_count": 5,
   "id": "8315b953",
   "metadata": {},
   "outputs": [
    {
     "name": "stdout",
     "output_type": "stream",
     "text": [
      "Number of respondents interviewed in 2018: 2348\n"
     ]
    }
   ],
   "source": [
    "count_year18 = (year == 2018).value_counts()\n",
    "print(f\"Number of respondents interviewed in 2018: {count_year18[1]}\")"
   ]
  },
  {
   "cell_type": "code",
   "execution_count": 6,
   "id": "d1835444",
   "metadata": {},
   "outputs": [
    {
     "data": {
      "text/plain": [
       "2006    4510\n",
       "1994    2992\n",
       "1996    2904\n",
       "2016    2867\n",
       "1998    2832\n",
       "2000    2817\n",
       "2004    2812\n",
       "2002    2765\n",
       "2014    2538\n",
       "2018    2348\n",
       "2010    2044\n",
       "2008    2023\n",
       "2012    1974\n",
       "1982    1860\n",
       "1987    1819\n",
       "1972    1613\n",
       "1993    1606\n",
       "1983    1599\n",
       "1989    1537\n",
       "1985    1534\n",
       "1978    1532\n",
       "1977    1530\n",
       "1991    1517\n",
       "1973    1504\n",
       "1976    1499\n",
       "1975    1490\n",
       "1974    1484\n",
       "1988    1481\n",
       "1984    1473\n",
       "1986    1470\n",
       "1980    1468\n",
       "1990    1372\n",
       "Name: YEAR, dtype: int64"
      ]
     },
     "execution_count": 6,
     "metadata": {},
     "output_type": "execute_result"
    }
   ],
   "source": [
    "sorted_year = year.value_counts(sort=True)\n",
    "sorted_year"
   ]
  },
  {
   "cell_type": "code",
   "execution_count": 9,
   "id": "e2b79b79",
   "metadata": {},
   "outputs": [
    {
     "name": "stdout",
     "output_type": "stream",
     "text": [
      "Year: 2006    4510\n",
      "Name: , dtype: int64\n"
     ]
    }
   ],
   "source": [
    "print(\"Year: \",end=\"\")\n",
    "print(pmf_year[pmf_year == max(sorted_year)])"
   ]
  },
  {
   "cell_type": "markdown",
   "id": "f2cc5b48",
   "metadata": {},
   "source": [
    "### Exercise II:\n",
    "\n",
    "Using cdf_age, compute the fraction of the respondents in the GSS dataset that are older than 69."
   ]
  },
  {
   "cell_type": "code",
   "execution_count": 10,
   "id": "70b1cb34",
   "metadata": {},
   "outputs": [
    {
     "data": {
      "text/html": [
       "<div>\n",
       "<style scoped>\n",
       "    .dataframe tbody tr th:only-of-type {\n",
       "        vertical-align: middle;\n",
       "    }\n",
       "\n",
       "    .dataframe tbody tr th {\n",
       "        vertical-align: top;\n",
       "    }\n",
       "\n",
       "    .dataframe thead th {\n",
       "        text-align: right;\n",
       "    }\n",
       "</style>\n",
       "<table border=\"1\" class=\"dataframe\">\n",
       "  <thead>\n",
       "    <tr style=\"text-align: right;\">\n",
       "      <th></th>\n",
       "      <th>probs</th>\n",
       "    </tr>\n",
       "  </thead>\n",
       "  <tbody>\n",
       "    <tr>\n",
       "      <th>18.0</th>\n",
       "      <td>0.003731</td>\n",
       "    </tr>\n",
       "    <tr>\n",
       "      <th>19.0</th>\n",
       "      <td>0.017063</td>\n",
       "    </tr>\n",
       "    <tr>\n",
       "      <th>20.0</th>\n",
       "      <td>0.030765</td>\n",
       "    </tr>\n",
       "    <tr>\n",
       "      <th>21.0</th>\n",
       "      <td>0.046465</td>\n",
       "    </tr>\n",
       "    <tr>\n",
       "      <th>22.0</th>\n",
       "      <td>0.063218</td>\n",
       "    </tr>\n",
       "    <tr>\n",
       "      <th>...</th>\n",
       "      <td>...</td>\n",
       "    </tr>\n",
       "    <tr>\n",
       "      <th>85.0</th>\n",
       "      <td>0.987319</td>\n",
       "    </tr>\n",
       "    <tr>\n",
       "      <th>86.0</th>\n",
       "      <td>0.990199</td>\n",
       "    </tr>\n",
       "    <tr>\n",
       "      <th>87.0</th>\n",
       "      <td>0.992491</td>\n",
       "    </tr>\n",
       "    <tr>\n",
       "      <th>88.0</th>\n",
       "      <td>0.994364</td>\n",
       "    </tr>\n",
       "    <tr>\n",
       "      <th>89.0</th>\n",
       "      <td>1.000000</td>\n",
       "    </tr>\n",
       "  </tbody>\n",
       "</table>\n",
       "<p>72 rows × 1 columns</p>\n",
       "</div>"
      ],
      "text/plain": [
       "18.0    0.003731\n",
       "19.0    0.017063\n",
       "20.0    0.030765\n",
       "21.0    0.046465\n",
       "22.0    0.063218\n",
       "          ...   \n",
       "85.0    0.987319\n",
       "86.0    0.990199\n",
       "87.0    0.992491\n",
       "88.0    0.994364\n",
       "89.0    1.000000\n",
       "Name: , Length: 72, dtype: float64"
      ]
     },
     "execution_count": 10,
     "metadata": {},
     "output_type": "execute_result"
    }
   ],
   "source": [
    "from empiricaldist import Cdf\n",
    "import numpy as np\n",
    "\n",
    "# Clean the data\n",
    "age = gss['AGE'].replace([98, 99], np.nan)\n",
    "\n",
    "cdf_age = Cdf.from_seq(age)\n",
    "cdf_age"
   ]
  },
  {
   "cell_type": "code",
   "execution_count": 11,
   "id": "d552ce0d",
   "metadata": {},
   "outputs": [
    {
     "name": "stdout",
     "output_type": "stream",
     "text": [
      "Probability that respondents will be older than 69: 0.12151240206855973\n",
      "Percent: 12.15 %\n"
     ]
    }
   ],
   "source": [
    "a = 69\n",
    "\n",
    "# P(resp's age <= 69)\n",
    "ple = cdf_age(a)\n",
    "\n",
    "# P(resp's age > 69) = 1 - P(resp's age <= 69)\n",
    "pg = 1 - ple\n",
    "\n",
    "print(f\"Probability that respondents will be older than 69: {pg}\")\n",
    "print(\"Percent: %.2f\" %(pg * 100) + \" %\")"
   ]
  },
  {
   "cell_type": "markdown",
   "id": "9269ed07",
   "metadata": {},
   "source": [
    "### Exercise III:\n",
    "\n",
    "The distribution of income in almost every country is long-tailed, which means there are a small number of people with very high incomes. In the GSS dataset, the column REALINC represents total household income, converted to 1986 dollars (REFERENCED value of Dollas). We can get a sense of the shape of this distribution by plotting the CDF.\n",
    "\n",
    "Select REALINC from the gss dataset, make a Cdf called cdf_income, and plot it. Remember to label the axes!"
   ]
  },
  {
   "cell_type": "code",
   "execution_count": 12,
   "id": "121a2c0a",
   "metadata": {},
   "outputs": [
    {
     "data": {
      "text/plain": [
       "Text(0.5, 1.0, 'Distribution of income')"
      ]
     },
     "execution_count": 12,
     "metadata": {},
     "output_type": "execute_result"
    },
    {
     "data": {
      "image/png": "[encoded data removed]",
      "text/plain": [
       "<Figure size 432x288 with 1 Axes>"
      ]
     },
     "metadata": {
      "needs_background": "light"
     },
     "output_type": "display_data"
    }
   ],
   "source": [
    "import matplotlib.pyplot as plt\n",
    "from empiricaldist import Cdf\n",
    "\n",
    "income = gss['REALINC'].replace(0, np.nan)\n",
    "cdf_income = Cdf.from_seq(income)\n",
    "\n",
    "cdf_income.plot()\n",
    "\n",
    "plt.xlabel('Income (1986 USD)')\n",
    "plt.ylabel('CDF')\n",
    "plt.title('Distribution of income')"
   ]
  },
  {
   "cell_type": "markdown",
   "id": "ba7e0502",
   "metadata": {},
   "source": [
    "### Exercise IV:\n",
    "\n",
    "What fraction of men are over 60? \n",
    "What fraction of women are over 60?"
   ]
  },
  {
   "cell_type": "code",
   "execution_count": 13,
   "id": "1aebc092",
   "metadata": {},
   "outputs": [
    {
     "name": "stdout",
     "output_type": "stream",
     "text": [
      "Percent (fraction) of men over 60: 21.40%\n",
      "Percent (fraction) of women over 60: 24.47%\n"
     ]
    }
   ],
   "source": [
    "from empiricaldist import Cdf\n",
    "\n",
    "male = (gss['SEX'] == 1)\n",
    "female = (gss['SEX'] == 2)\n",
    "\n",
    "male_age = age[male]\n",
    "female_age = age[female]\n",
    "\n",
    "cdf_male_age = Cdf.from_seq(male_age)\n",
    "cdf_female_age = Cdf.from_seq(female_age)\n",
    "\n",
    "a = 60\n",
    "\n",
    "p_mle = cdf_male_age[a]\n",
    "p_mg = 1 - p_mle\n",
    "print(\"Percent (fraction) of men over 60: {0:.2f}%\".format(p_mg * 100))\n",
    "\n",
    "p_fle = cdf_female_age[a]\n",
    "p_fg = 1 - p_fle\n",
    "print(\"Percent (fraction) of women over 60: {0:.2f}%\".format(p_fg * 100))"
   ]
  },
  {
   "cell_type": "markdown",
   "id": "1abf53db",
   "metadata": {},
   "source": [
    "### Exercise V:\n",
    "In the previous CDF icome figure, the dollar amounts are big enough that the labels on the x axis are crowded. Improve the figure by expressing income in 1000s of dollars (and update the x label accordingly)."
   ]
  },
  {
   "cell_type": "code",
   "execution_count": 15,
   "id": "0664e158",
   "metadata": {},
   "outputs": [
    {
     "data": {
      "text/plain": [
       "Text(0.5, 1.0, 'Distribution of income')"
      ]
     },
     "execution_count": 15,
     "metadata": {},
     "output_type": "execute_result"
    },
    {
     "data": {
      "image/png": "[encoded data removed]",
      "text/plain": [
       "<Figure size 432x288 with 1 Axes>"
      ]
     },
     "metadata": {
      "needs_background": "light"
     },
     "output_type": "display_data"
    }
   ],
   "source": [
    "import matplotlib.pyplot as plt\n",
    "from empiricaldist import Cdf\n",
    "\n",
    "round_inc = gss['REALINC'] / 1000\n",
    "round_inc = round_inc.replace(0, np.nan)\n",
    "\n",
    "cdf_round_inc = Cdf.from_seq(round_inc)\n",
    "\n",
    "cdf_round_inc.plot()\n",
    "\n",
    "plt.xlabel('Income (1986 USD x 1000)')\n",
    "plt.ylabel('CDF')\n",
    "plt.title('Distribution of income')"
   ]
  },
  {
   "cell_type": "markdown",
   "id": "4c7c8edc",
   "metadata": {},
   "source": [
    "## Exercise VI:\n",
    "Let's compare incomes for different levels of education in the GSS dataset\n",
    "\n",
    "To do that we'll create Boolean Series to identify respondents with different levels of education.\n",
    "\n",
    "In the U.S, 12 years of education usually means the respondent has completed high school (secondary education).\n",
    "\n",
    "A respondent with 14 years of education has probably completed an associate degree (two years of college)\n",
    "\n",
    "Someone with 16 years has probably completed a bachelor's degree (four years of college or university).\n",
    "\n",
    "Define Boolean Series named high, assc, and bach that are true for respondents with\n",
    "\n",
    "12 or fewer years of education,\n",
    "\n",
    "13, 14, or 15 years, and\n",
    "\n",
    "16 or more.\n",
    "\n",
    "Compute and plot the distribution of income for each group. Remember to label the CDFs, display a legend, and label the axes. Write a few sentences that describe and interpret the results."
   ]
  },
  {
   "cell_type": "code",
   "execution_count": 19,
   "id": "b8726a2a",
   "metadata": {},
   "outputs": [
    {
     "data": {
      "text/plain": [
       "<matplotlib.legend.Legend at 0x23003135220>"
      ]
     },
     "execution_count": 19,
     "metadata": {},
     "output_type": "execute_result"
    },
    {
     "data": {
      "image/png": "[encoded data removed]",
      "text/plain": [
       "<Figure size 432x288 with 1 Axes>"
      ]
     },
     "metadata": {
      "needs_background": "light"
     },
     "output_type": "display_data"
    }
   ],
   "source": [
    "import numpy as np\n",
    "import matplotlib.pyplot as plt\n",
    "from empiricaldist import Cdf\n",
    "\n",
    "educ = gss['EDUC'].replace([98, 99], np.nan)\n",
    "\n",
    "high = (educ <= 12)\n",
    "assc = (educ == 13) | (educ == 14) | (educ == 15)\n",
    "bach = (educ >= 16) \n",
    "\n",
    "income = (gss['REALINC'] / 1000).replace(0, np.nan) \n",
    "\n",
    "Cdf.from_seq(income[high]).plot(label=\"High school\")\n",
    "Cdf.from_seq(income[assc]).plot(label=\"Associate degree\")\n",
    "Cdf.from_seq(income[bach]).plot(label=\"Bachelor's degree\")\n",
    "\n",
    "plt.xlabel('Income (1986 USD x 1000)')\n",
    "plt.ylabel('CDF')\n",
    "plt.title('Distribution of income')\n",
    "plt.legend()"
   ]
  },
  {
   "cell_type": "markdown",
   "id": "43e01a39",
   "metadata": {},
   "source": [
    "At the beginning, when income is low, it can be seen that the High school graph increases the fastest, followed by Associate degree and Bachelor's degree respectively. This suggests that people who spend more time in education are less likely to have less income than people who spend less time in education.\n",
    "\n",
    "The income continues to increase until it reaches a certain point, and the point at which each graph starts to pleateau is different, with High school graph first at around 40K, and followed by Associate degree (around 50K) and Bachelor's degree (almost 60K).\n",
    "\n",
    "After this point, High school and Associate degree stays flatten more than Bachelor's degree suggesting that there are a higher chance to see people, with Bachelor's or higher degree who continue to earn more, than the chance of seeing the other groups earning more after the point where the graph flatten. "
   ]
  }
 ],
 "metadata": {
  "kernelspec": {
   "display_name": "Python 3 (ipykernel)",
   "language": "python",
   "name": "python3"
  },
  "language_info": {
   "codemirror_mode": {
    "name": "ipython",
    "version": 3
   },
   "file_extension": ".py",
   "mimetype": "text/x-python",
   "name": "python",
   "nbconvert_exporter": "python",
   "pygments_lexer": "ipython3",
   "version": "3.9.12"
  }
 },
 "nbformat": 4,
 "nbformat_minor": 5
}
