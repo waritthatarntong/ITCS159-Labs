{
 "cells": [
  {
   "cell_type": "markdown",
   "id": "2cc61599",
   "metadata": {},
   "source": [
    "# Exercise"
   ]
  },
  {
   "cell_type": "markdown",
   "id": "750093a2",
   "metadata": {},
   "source": [
    "####  1. Calcuate $ \\frac{\\pi}{\\sqrt{2}}$ with 10 decimals"
   ]
  },
  {
   "cell_type": "code",
   "execution_count": 1,
   "id": "c01146ed",
   "metadata": {},
   "outputs": [
    {
     "name": "stdout",
     "output_type": "stream",
     "text": [
      "2.221441469\n"
     ]
    }
   ],
   "source": [
    "from sympy import pi, pprint, sqrt, evalf\n",
    "\n",
    "pprint((pi / sqrt(2)).evalf(10))"
   ]
  },
  {
   "cell_type": "markdown",
   "id": "3499b518",
   "metadata": {},
   "source": [
    "#### 2. Calculate $\\frac{1}{a+b}$ if $a = \\frac{\\sqrt{2}}{2}$  and $ b = 2\\frac{\\sqrt{2}}{2}$ in rational arithmetic. finally show numberically value of the expression."
   ]
  },
  {
   "cell_type": "code",
   "execution_count": 12,
   "id": "b3af47c8",
   "metadata": {},
   "outputs": [
    {
     "name": "stdout",
     "output_type": "stream",
     "text": [
      "  1  \n",
      "─────\n",
      "a + b\n",
      "√2\n",
      "──\n",
      "3 \n",
      "0.4714\n"
     ]
    }
   ],
   "source": [
    "from sympy import symbols, Rational\n",
    "\n",
    "a, b = symbols('a,b')\n",
    "y = 1 / (a+b)\n",
    "pprint(y)\n",
    "\n",
    "# Substituting a, b\n",
    "y = y.subs({a: sqrt(2) / 2, b: 2 * (sqrt(2) / 2)})\n",
    "pprint(y)\n",
    "pprint(y.evalf(4))"
   ]
  },
  {
   "cell_type": "markdown",
   "id": "cfe0f1fd",
   "metadata": {},
   "source": [
    "#### 3. Expand \n",
    "$$y= sin(2a + b)$$ in term of \n",
    "$sin()$ and $cos()$. Apply pretty print to your answers."
   ]
  },
  {
   "cell_type": "code",
   "execution_count": 13,
   "id": "508af11d",
   "metadata": {},
   "outputs": [
    {
     "name": "stdout",
     "output_type": "stream",
     "text": [
      "sin(2⋅a + b)\n",
      "                                     2            \n",
      "2⋅sin(a)⋅cos(a)⋅cos(b) + 2⋅sin(b)⋅cos (a) - sin(b)\n"
     ]
    }
   ],
   "source": [
    "from sympy import sin\n",
    "\n",
    "y = sin(2*a + b)\n",
    "pprint(y)\n",
    "\n",
    "# Trigonometric explansions\n",
    "pprint(y.expand(trig=True))"
   ]
  },
  {
   "cell_type": "markdown",
   "id": "4261af7c",
   "metadata": {},
   "source": [
    "4. #### Simplify the trigonometric expression $$ 2⋅sin(a)⋅cos(a)⋅cos(b) + 2⋅sin(b)⋅cos^2 (a) - sin(b)$$\n"
   ]
  },
  {
   "cell_type": "code",
   "execution_count": 15,
   "id": "8ac6aff1",
   "metadata": {},
   "outputs": [
    {
     "name": "stdout",
     "output_type": "stream",
     "text": [
      "sin(2⋅a + b)\n"
     ]
    }
   ],
   "source": [
    "from sympy import simplify, cos, trigsimp\n",
    "# Trigometric expression to be simplified\n",
    "y = 2*𝑠𝑖𝑛(𝑎)*𝑐𝑜𝑠(𝑎)*𝑐𝑜𝑠(𝑏)+2*𝑠𝑖𝑛(𝑏)*𝑐𝑜𝑠(𝑎)**2-𝑠𝑖𝑛(𝑏)\n",
    "\n",
    "# Simplication (using trigonometric identities)\n",
    "y = simplify(y, trigsimp=True)\n",
    "pprint(y)"
   ]
  },
  {
   "cell_type": "markdown",
   "id": "3bef09bb",
   "metadata": {},
   "source": [
    "5. In electrical parallel Speaker circuit is drive by output from Amplifier, on average 24 V, total resitance value can be computed as $$ \\frac{1}{R_t} = \n",
    "      \\frac{1}{R_1} + \\frac{1}{R_2} + \\cdot \\cdot \\cdot + \\frac{1}{R_N}$$\n",
    "      Assumed, there are three resistor in a circuit each is 8,16,32 Ohms respectively, show how to use sympy calculate total $CURRENT$  flow in the circuit as exact number, 3 decimals. \n",
    "      \n",
    "      Given Ohm's current Law any current flow into point is equal to current flow out of point.\n",
    "    And $$ Volt\\_accoss\\_total\\_resitor = Current * Resistance $$"
   ]
  },
  {
   "cell_type": "code",
   "execution_count": 21,
   "id": "57718492",
   "metadata": {},
   "outputs": [
    {
     "name": "stdout",
     "output_type": "stream",
     "text": [
      "1    1    1 \n",
      "── + ── + ──\n",
      "r₃   r₂   r₁\n",
      "r₁⋅r₂ + r₁⋅r₃ + r₂⋅r₃\n",
      "─────────────────────\n",
      "       r₁⋅r₂⋅r₃      \n",
      "Total resistance = 32/7\n",
      "\n",
      "Total current is 5.25 Amperes\n"
     ]
    }
   ],
   "source": [
    "from sympy import together\n",
    "r, rT, r1, r2, r3, I, V = symbols('r, rT, r1, r2, r3, I, V')\n",
    "r = 1/r1 + 1/r2 + 1/r3\n",
    "pprint(r)\n",
    "\n",
    "# Merge to one common division \n",
    "pprint(together(r))\n",
    "\n",
    "# Subsitution\n",
    "r = together(r).subs({r1: 8, r2: 16, r3: 32})\n",
    "rT = 1 / r\n",
    "print(f\"Total resistance = {rT}\")\n",
    "print()\n",
    "\n",
    "# V = IR\n",
    "# I = V/R\n",
    "V = 24\n",
    "I = V / rT\n",
    "print(f\"Total current is {I.evalf(3)} Amperes\")"
   ]
  },
  {
   "cell_type": "markdown",
   "id": "a47c135c",
   "metadata": {},
   "source": [
    "6. Consider the flowing two equations\n",
    "$$\n",
    "      y = 2x^2 - 40\\\\\n",
    "      y = -4x - 23\n",
    "$$ \n",
    "\n",
    "Find solutions in from of (x,y) point of intersection betweem to graphs.\n",
    "Show pair of (x,y) and graphs that verifies your solutions."
   ]
  },
  {
   "cell_type": "code",
   "execution_count": 23,
   "id": "817e22c7",
   "metadata": {},
   "outputs": [
    {
     "name": "stdout",
     "output_type": "stream",
     "text": [
      "[(-1 + sqrt(38)/2, -19 - 2*sqrt(38)), (-sqrt(38)/2 - 1, -19 + 2*sqrt(38))]\n",
      "2.08 -31.3\n",
      "-4.08 -6.67\n"
     ]
    }
   ],
   "source": [
    "from sympy import solve\n",
    "x, y, eq1, eq2 = symbols('x, y, eq1, eq2')\n",
    "eq1 = 2*x**2 - 40 - y\n",
    "eq2 = -4*x - 23 - y\n",
    "\n",
    "solutions = solve((eq1, eq2), (x,y))\n",
    "print(solutions)\n",
    "print(solutions[0][0].evalf(3), solutions[0][1].evalf(3))\n",
    "print(solutions[1][0].evalf(3), solutions[1][1].evalf(3))"
   ]
  },
  {
   "cell_type": "code",
   "execution_count": 24,
   "id": "4419498e",
   "metadata": {},
   "outputs": [
    {
     "data": {
      "image/png": "[encoded data removed]",
      "text/plain": [
       "<Figure size 432x288 with 1 Axes>"
      ]
     },
     "metadata": {
      "needs_background": "light"
     },
     "output_type": "display_data"
    },
    {
     "data": {
      "text/plain": [
       "<sympy.plotting.plot.Plot at 0x27a352153d0>"
      ]
     },
     "execution_count": 24,
     "metadata": {},
     "output_type": "execute_result"
    }
   ],
   "source": [
    "from sympy.plotting import plot\n",
    "\n",
    "# Change color of the graph\n",
    "import matplotlib.pyplot as plt\n",
    "plt.rcParams[\"xtick.labelsize\"] = 16\n",
    "plt.rcParams[\"xtick.color\"] = \"red\"\n",
    "\n",
    "x, y = symbols('x,y')\n",
    "\n",
    "eq1 = 2*x**2 - 40\n",
    "eq2 = -4*x - 23\n",
    "plot(eq1, eq2)"
   ]
  },
  {
   "cell_type": "code",
   "execution_count": null,
   "id": "bb58be80",
   "metadata": {},
   "outputs": [],
   "source": []
  },
  {
   "cell_type": "markdown",
   "id": "30e4baf5",
   "metadata": {},
   "source": [
    "References:\n",
    "This node based on SymPy tutorial and lecture notes\n",
    "- https://scipy-lectures.org/packages/sympy.html"
   ]
  }
 ],
 "metadata": {
  "kernelspec": {
   "display_name": "Python 3 (ipykernel)",
   "language": "python",
   "name": "python3"
  },
  "language_info": {
   "codemirror_mode": {
    "name": "ipython",
    "version": 3
   },
   "file_extension": ".py",
   "mimetype": "text/x-python",
   "name": "python",
   "nbconvert_exporter": "python",
   "pygments_lexer": "ipython3",
   "version": "3.9.12"
  }
 },
 "nbformat": 4,
 "nbformat_minor": 5
}
