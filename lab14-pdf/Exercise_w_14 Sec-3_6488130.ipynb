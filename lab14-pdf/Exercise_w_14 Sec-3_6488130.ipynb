{
 "cells": [
  {
   "cell_type": "markdown",
   "id": "75bc9615",
   "metadata": {},
   "source": [
    "## Exercise I:\n",
    "In a previous exercise, we asked “Is the normal distribution a good model for the distribution of ages in the U.S. population?” To answer this question, we plotted the CDF of the data and compared it to the CDF of a normal distribution with the same mean and standard deviation.\n",
    "\n",
    "Now we’ll compare the estimated density of the data with the normal PDF.\n",
    "\n",
    "- Again, compute the mean and standard deviation of ages in the GSS dataset.\n",
    "\n",
    "- Use linspace to create an array of values between 18 and 89.\n",
    "\n",
    "- Use norm to create a normal distribution with the same mean and standard deviation as the data, then use it to compute the normal PDF for each value in the array.\n",
    "\n",
    "- Plot the normal PDF with a gray line.\n",
    "\n",
    "- Use sns.kdeplot to estimate and plot the density of the ages in the GSS.\n",
    "\n",
    "Note: Seaborn can’t handle NaNs, so use dropna to drop them before calling kdeplot.\n",
    "\n",
    "How well do the PDF and KDE plots agree?"
   ]
  },
  {
   "cell_type": "markdown",
   "id": "72035476",
   "metadata": {},
   "source": [
    "## Data for Exercise I::   The General Social Survey (Week 12)\n",
    "The examples in this chapter are based on a new dataset, the General Social Survey (GSS). The GSS has run annually since 1972; it surveys a representative sample of adult residents of the U.S. and asks questions about demographics, personal history, and beliefs about social and political issues.\n",
    "\n",
    "It is widely used by politicians, policy makers, and researchers. The GSS dataset contains hundreds of columns; using an online tool call GSS Explorer[https://gssdataexplorer.norc.org/]. This week we selected just a few and created a data extract.\n",
    "\n",
    "Like the NSFG data we used in the previous week, the GSS data is stored in a fixed-width format, described by a Stata data dictionary."
   ]
  },
  {
   "cell_type": "code",
   "execution_count": 2,
   "id": "4107813e",
   "metadata": {},
   "outputs": [],
   "source": [
    "# define files for downloading\n",
    "dict_file = 'GSS.dct'\n",
    "data_file = 'GSS.dat.gz'"
   ]
  },
  {
   "cell_type": "code",
   "execution_count": 3,
   "id": "7836557d",
   "metadata": {},
   "outputs": [],
   "source": [
    "from os.path import basename, exists\n",
    "\n",
    "def download(url):\n",
    "    filename = basename(url)\n",
    "    if not exists(filename):\n",
    "        from urllib.request import urlretrieve\n",
    "        local, _ = urlretrieve(url, filename)\n",
    "        print('Downloaded ' + local)"
   ]
  },
  {
   "cell_type": "code",
   "execution_count": 4,
   "id": "735106f9",
   "metadata": {
    "scrolled": true
   },
   "outputs": [],
   "source": [
    "download('https://github.com/AllenDowney/' +\n",
    "         'ElementsOfDataScience/raw/master/data/' +\n",
    "         dict_file)\n",
    "download('https://github.com/AllenDowney/' +\n",
    "         'ElementsOfDataScience/raw/master/data/' +\n",
    "         data_file)"
   ]
  },
  {
   "cell_type": "code",
   "execution_count": 5,
   "id": "e15a93f9",
   "metadata": {},
   "outputs": [],
   "source": [
    "from statadict import parse_stata_dict\n",
    "\n",
    "stata_dict = parse_stata_dict(dict_file)"
   ]
  },
  {
   "cell_type": "code",
   "execution_count": 6,
   "id": "1a1307e4",
   "metadata": {},
   "outputs": [],
   "source": [
    "import gzip\n",
    "\n",
    "fp = gzip.open(data_file)"
   ]
  },
  {
   "cell_type": "code",
   "execution_count": 7,
   "id": "7b7ce455",
   "metadata": {},
   "outputs": [],
   "source": [
    "# Create DataFrame\n",
    "import pandas as pd\n",
    "\n",
    "gss = pd.read_fwf(fp, \n",
    "                  names=stata_dict.names, \n",
    "                  colspecs=stata_dict.colspecs)"
   ]
  },
  {
   "cell_type": "code",
   "execution_count": 8,
   "id": "2c5fdfde",
   "metadata": {},
   "outputs": [
    {
     "data": {
      "text/html": [
       "<div>\n",
       "<style scoped>\n",
       "    .dataframe tbody tr th:only-of-type {\n",
       "        vertical-align: middle;\n",
       "    }\n",
       "\n",
       "    .dataframe tbody tr th {\n",
       "        vertical-align: top;\n",
       "    }\n",
       "\n",
       "    .dataframe thead th {\n",
       "        text-align: right;\n",
       "    }\n",
       "</style>\n",
       "<table border=\"1\" class=\"dataframe\">\n",
       "  <thead>\n",
       "    <tr style=\"text-align: right;\">\n",
       "      <th></th>\n",
       "      <th>YEAR</th>\n",
       "      <th>ID_</th>\n",
       "      <th>AGE</th>\n",
       "      <th>EDUC</th>\n",
       "      <th>SEX</th>\n",
       "      <th>GUNLAW</th>\n",
       "      <th>GRASS</th>\n",
       "      <th>REALINC</th>\n",
       "    </tr>\n",
       "  </thead>\n",
       "  <tbody>\n",
       "    <tr>\n",
       "      <th>0</th>\n",
       "      <td>1972</td>\n",
       "      <td>1</td>\n",
       "      <td>23</td>\n",
       "      <td>16</td>\n",
       "      <td>2</td>\n",
       "      <td>1</td>\n",
       "      <td>0</td>\n",
       "      <td>18951.0</td>\n",
       "    </tr>\n",
       "    <tr>\n",
       "      <th>1</th>\n",
       "      <td>1972</td>\n",
       "      <td>2</td>\n",
       "      <td>70</td>\n",
       "      <td>10</td>\n",
       "      <td>1</td>\n",
       "      <td>1</td>\n",
       "      <td>0</td>\n",
       "      <td>24366.0</td>\n",
       "    </tr>\n",
       "    <tr>\n",
       "      <th>2</th>\n",
       "      <td>1972</td>\n",
       "      <td>3</td>\n",
       "      <td>48</td>\n",
       "      <td>12</td>\n",
       "      <td>2</td>\n",
       "      <td>1</td>\n",
       "      <td>0</td>\n",
       "      <td>24366.0</td>\n",
       "    </tr>\n",
       "    <tr>\n",
       "      <th>3</th>\n",
       "      <td>1972</td>\n",
       "      <td>4</td>\n",
       "      <td>27</td>\n",
       "      <td>17</td>\n",
       "      <td>2</td>\n",
       "      <td>1</td>\n",
       "      <td>0</td>\n",
       "      <td>30458.0</td>\n",
       "    </tr>\n",
       "    <tr>\n",
       "      <th>4</th>\n",
       "      <td>1972</td>\n",
       "      <td>5</td>\n",
       "      <td>61</td>\n",
       "      <td>12</td>\n",
       "      <td>2</td>\n",
       "      <td>1</td>\n",
       "      <td>0</td>\n",
       "      <td>50763.0</td>\n",
       "    </tr>\n",
       "    <tr>\n",
       "      <th>...</th>\n",
       "      <td>...</td>\n",
       "      <td>...</td>\n",
       "      <td>...</td>\n",
       "      <td>...</td>\n",
       "      <td>...</td>\n",
       "      <td>...</td>\n",
       "      <td>...</td>\n",
       "      <td>...</td>\n",
       "    </tr>\n",
       "    <tr>\n",
       "      <th>64809</th>\n",
       "      <td>2018</td>\n",
       "      <td>2344</td>\n",
       "      <td>37</td>\n",
       "      <td>12</td>\n",
       "      <td>2</td>\n",
       "      <td>2</td>\n",
       "      <td>0</td>\n",
       "      <td>0.0</td>\n",
       "    </tr>\n",
       "    <tr>\n",
       "      <th>64810</th>\n",
       "      <td>2018</td>\n",
       "      <td>2345</td>\n",
       "      <td>75</td>\n",
       "      <td>12</td>\n",
       "      <td>2</td>\n",
       "      <td>2</td>\n",
       "      <td>0</td>\n",
       "      <td>14755.0</td>\n",
       "    </tr>\n",
       "    <tr>\n",
       "      <th>64811</th>\n",
       "      <td>2018</td>\n",
       "      <td>2346</td>\n",
       "      <td>67</td>\n",
       "      <td>12</td>\n",
       "      <td>2</td>\n",
       "      <td>1</td>\n",
       "      <td>1</td>\n",
       "      <td>45400.0</td>\n",
       "    </tr>\n",
       "    <tr>\n",
       "      <th>64812</th>\n",
       "      <td>2018</td>\n",
       "      <td>2347</td>\n",
       "      <td>72</td>\n",
       "      <td>16</td>\n",
       "      <td>1</td>\n",
       "      <td>0</td>\n",
       "      <td>2</td>\n",
       "      <td>24970.0</td>\n",
       "    </tr>\n",
       "    <tr>\n",
       "      <th>64813</th>\n",
       "      <td>2018</td>\n",
       "      <td>2348</td>\n",
       "      <td>79</td>\n",
       "      <td>12</td>\n",
       "      <td>2</td>\n",
       "      <td>1</td>\n",
       "      <td>0</td>\n",
       "      <td>0.0</td>\n",
       "    </tr>\n",
       "  </tbody>\n",
       "</table>\n",
       "<p>64814 rows × 8 columns</p>\n",
       "</div>"
      ],
      "text/plain": [
       "       YEAR   ID_  AGE  EDUC  SEX  GUNLAW  GRASS  REALINC\n",
       "0      1972     1   23    16    2       1      0  18951.0\n",
       "1      1972     2   70    10    1       1      0  24366.0\n",
       "2      1972     3   48    12    2       1      0  24366.0\n",
       "3      1972     4   27    17    2       1      0  30458.0\n",
       "4      1972     5   61    12    2       1      0  50763.0\n",
       "...     ...   ...  ...   ...  ...     ...    ...      ...\n",
       "64809  2018  2344   37    12    2       2      0      0.0\n",
       "64810  2018  2345   75    12    2       2      0  14755.0\n",
       "64811  2018  2346   67    12    2       1      1  45400.0\n",
       "64812  2018  2347   72    16    1       0      2  24970.0\n",
       "64813  2018  2348   79    12    2       1      0      0.0\n",
       "\n",
       "[64814 rows x 8 columns]"
      ]
     },
     "execution_count": 8,
     "metadata": {},
     "output_type": "execute_result"
    }
   ],
   "source": [
    "# ex1 for attendance\n",
    "gss"
   ]
  },
  {
   "cell_type": "code",
   "execution_count": 9,
   "id": "6cae422a",
   "metadata": {},
   "outputs": [
    {
     "name": "stdout",
     "output_type": "stream",
     "text": [
      "46.09935589756294 17.53470306167092\n"
     ]
    }
   ],
   "source": [
    "import numpy as np\n",
    "\n",
    "age = gss['AGE'].replace([98, 99], np.nan)\n",
    "age = age.dropna()\n",
    "mean, std = age.mean(), age.std()\n",
    "\n",
    "print(mean, std)"
   ]
  },
  {
   "cell_type": "code",
   "execution_count": 10,
   "id": "834e6281",
   "metadata": {},
   "outputs": [
    {
     "data": {
      "text/plain": [
       "<matplotlib.legend.Legend at 0x12598847a60>"
      ]
     },
     "execution_count": 10,
     "metadata": {},
     "output_type": "execute_result"
    },
    {
     "data": {
      "image/png": "[encoded data removed]",
      "text/plain": [
       "<Figure size 432x288 with 1 Axes>"
      ]
     },
     "metadata": {
      "needs_background": "light"
     },
     "output_type": "display_data"
    }
   ],
   "source": [
    "import matplotlib.pyplot as plt\n",
    "from scipy.stats import norm\n",
    "import seaborn as sns\n",
    "\n",
    "# Normal PDF\n",
    "xs = np.linspace(18, 89)\n",
    "ys = norm(mean, std).pdf(xs)\n",
    "plt.plot(xs, ys, color='gray', label='Normal PDF')\n",
    "\n",
    "# KDE \n",
    "sns.kdeplot(age, label='Estimated sample PDF')\n",
    "\n",
    "plt.xlabel('x')\n",
    "plt.ylabel('PDF')\n",
    "plt.title('Normal density function')\n",
    "plt.legend()"
   ]
  },
  {
   "cell_type": "markdown",
   "id": "7994e5bc",
   "metadata": {},
   "source": [
    "### How well do the PDF and KDE plots agree?\n",
    "KDE plot (PDF plot from a sample) doesn't agree well with Normal PDF.\n",
    "\n",
    "KDE plot is skewed right because the sample contains many respondents whose age is larger than the average. "
   ]
  },
  {
   "cell_type": "markdown",
   "id": "acbdd2c5",
   "metadata": {},
   "source": [
    "## Exercise II : \n",
    "\n",
    "In a previous exercise, we used CDFs to see if the distribution of income fits a lognormal distribution. We can make the same comparison using a PDF and KDE.\n",
    "\n",
    "- Again, extract REALINC from gss and compute its logarithm using np.log10().\n",
    "\n",
    "- Compute the mean and standard deviation of the log-transformed incomes.\n",
    "\n",
    "- Use norm to make a normal distribution with the same mean and standard deviation as the log-transformed incomes.\n",
    "\n",
    "- Plot the PDF of the normal distribution.\n",
    "\n",
    "- Use sns.kdeplot() to estimate and plot the density of the log-transformed incomes."
   ]
  },
  {
   "cell_type": "code",
   "execution_count": 37,
   "id": "70b536c6",
   "metadata": {},
   "outputs": [
    {
     "data": {
      "text/html": [
       "<div>\n",
       "<style scoped>\n",
       "    .dataframe tbody tr th:only-of-type {\n",
       "        vertical-align: middle;\n",
       "    }\n",
       "\n",
       "    .dataframe tbody tr th {\n",
       "        vertical-align: top;\n",
       "    }\n",
       "\n",
       "    .dataframe thead th {\n",
       "        text-align: right;\n",
       "    }\n",
       "</style>\n",
       "<table border=\"1\" class=\"dataframe\">\n",
       "  <thead>\n",
       "    <tr style=\"text-align: right;\">\n",
       "      <th></th>\n",
       "      <th>YEAR</th>\n",
       "      <th>ID_</th>\n",
       "      <th>AGE</th>\n",
       "      <th>EDUC</th>\n",
       "      <th>SEX</th>\n",
       "      <th>GUNLAW</th>\n",
       "      <th>GRASS</th>\n",
       "      <th>REALINC</th>\n",
       "    </tr>\n",
       "  </thead>\n",
       "  <tbody>\n",
       "    <tr>\n",
       "      <th>0</th>\n",
       "      <td>1972</td>\n",
       "      <td>1</td>\n",
       "      <td>23</td>\n",
       "      <td>16</td>\n",
       "      <td>2</td>\n",
       "      <td>1</td>\n",
       "      <td>0</td>\n",
       "      <td>18951.0</td>\n",
       "    </tr>\n",
       "    <tr>\n",
       "      <th>1</th>\n",
       "      <td>1972</td>\n",
       "      <td>2</td>\n",
       "      <td>70</td>\n",
       "      <td>10</td>\n",
       "      <td>1</td>\n",
       "      <td>1</td>\n",
       "      <td>0</td>\n",
       "      <td>24366.0</td>\n",
       "    </tr>\n",
       "    <tr>\n",
       "      <th>2</th>\n",
       "      <td>1972</td>\n",
       "      <td>3</td>\n",
       "      <td>48</td>\n",
       "      <td>12</td>\n",
       "      <td>2</td>\n",
       "      <td>1</td>\n",
       "      <td>0</td>\n",
       "      <td>24366.0</td>\n",
       "    </tr>\n",
       "    <tr>\n",
       "      <th>3</th>\n",
       "      <td>1972</td>\n",
       "      <td>4</td>\n",
       "      <td>27</td>\n",
       "      <td>17</td>\n",
       "      <td>2</td>\n",
       "      <td>1</td>\n",
       "      <td>0</td>\n",
       "      <td>30458.0</td>\n",
       "    </tr>\n",
       "    <tr>\n",
       "      <th>4</th>\n",
       "      <td>1972</td>\n",
       "      <td>5</td>\n",
       "      <td>61</td>\n",
       "      <td>12</td>\n",
       "      <td>2</td>\n",
       "      <td>1</td>\n",
       "      <td>0</td>\n",
       "      <td>50763.0</td>\n",
       "    </tr>\n",
       "    <tr>\n",
       "      <th>...</th>\n",
       "      <td>...</td>\n",
       "      <td>...</td>\n",
       "      <td>...</td>\n",
       "      <td>...</td>\n",
       "      <td>...</td>\n",
       "      <td>...</td>\n",
       "      <td>...</td>\n",
       "      <td>...</td>\n",
       "    </tr>\n",
       "    <tr>\n",
       "      <th>64809</th>\n",
       "      <td>2018</td>\n",
       "      <td>2344</td>\n",
       "      <td>37</td>\n",
       "      <td>12</td>\n",
       "      <td>2</td>\n",
       "      <td>2</td>\n",
       "      <td>0</td>\n",
       "      <td>0.0</td>\n",
       "    </tr>\n",
       "    <tr>\n",
       "      <th>64810</th>\n",
       "      <td>2018</td>\n",
       "      <td>2345</td>\n",
       "      <td>75</td>\n",
       "      <td>12</td>\n",
       "      <td>2</td>\n",
       "      <td>2</td>\n",
       "      <td>0</td>\n",
       "      <td>14755.0</td>\n",
       "    </tr>\n",
       "    <tr>\n",
       "      <th>64811</th>\n",
       "      <td>2018</td>\n",
       "      <td>2346</td>\n",
       "      <td>67</td>\n",
       "      <td>12</td>\n",
       "      <td>2</td>\n",
       "      <td>1</td>\n",
       "      <td>1</td>\n",
       "      <td>45400.0</td>\n",
       "    </tr>\n",
       "    <tr>\n",
       "      <th>64812</th>\n",
       "      <td>2018</td>\n",
       "      <td>2347</td>\n",
       "      <td>72</td>\n",
       "      <td>16</td>\n",
       "      <td>1</td>\n",
       "      <td>0</td>\n",
       "      <td>2</td>\n",
       "      <td>24970.0</td>\n",
       "    </tr>\n",
       "    <tr>\n",
       "      <th>64813</th>\n",
       "      <td>2018</td>\n",
       "      <td>2348</td>\n",
       "      <td>79</td>\n",
       "      <td>12</td>\n",
       "      <td>2</td>\n",
       "      <td>1</td>\n",
       "      <td>0</td>\n",
       "      <td>0.0</td>\n",
       "    </tr>\n",
       "  </tbody>\n",
       "</table>\n",
       "<p>64814 rows × 8 columns</p>\n",
       "</div>"
      ],
      "text/plain": [
       "       YEAR   ID_  AGE  EDUC  SEX  GUNLAW  GRASS  REALINC\n",
       "0      1972     1   23    16    2       1      0  18951.0\n",
       "1      1972     2   70    10    1       1      0  24366.0\n",
       "2      1972     3   48    12    2       1      0  24366.0\n",
       "3      1972     4   27    17    2       1      0  30458.0\n",
       "4      1972     5   61    12    2       1      0  50763.0\n",
       "...     ...   ...  ...   ...  ...     ...    ...      ...\n",
       "64809  2018  2344   37    12    2       2      0      0.0\n",
       "64810  2018  2345   75    12    2       2      0  14755.0\n",
       "64811  2018  2346   67    12    2       1      1  45400.0\n",
       "64812  2018  2347   72    16    1       0      2  24970.0\n",
       "64813  2018  2348   79    12    2       1      0      0.0\n",
       "\n",
       "[64814 rows x 8 columns]"
      ]
     },
     "execution_count": 37,
     "metadata": {},
     "output_type": "execute_result"
    }
   ],
   "source": [
    "gss"
   ]
  },
  {
   "cell_type": "code",
   "execution_count": 38,
   "id": "b254ff98",
   "metadata": {},
   "outputs": [
    {
     "data": {
      "text/plain": [
       "0        18951.0\n",
       "1        24366.0\n",
       "2        24366.0\n",
       "3        30458.0\n",
       "4        50763.0\n",
       "          ...   \n",
       "64807     4086.0\n",
       "64808     7377.5\n",
       "64810    14755.0\n",
       "64811    45400.0\n",
       "64812    24970.0\n",
       "Name: REALINC, Length: 58293, dtype: float64"
      ]
     },
     "execution_count": 38,
     "metadata": {},
     "output_type": "execute_result"
    }
   ],
   "source": [
    "# Clean data\n",
    "import numpy as np\n",
    "\n",
    "inc = gss['REALINC'].replace(0, np.nan)\n",
    "inc = inc.dropna()\n",
    "\n",
    "inc"
   ]
  },
  {
   "cell_type": "code",
   "execution_count": 39,
   "id": "08e5e0f4",
   "metadata": {},
   "outputs": [
    {
     "data": {
      "text/plain": [
       "0        4.277632\n",
       "1        4.386784\n",
       "2        4.386784\n",
       "3        4.483701\n",
       "4        4.705547\n",
       "           ...   \n",
       "64807    3.611298\n",
       "64808    3.867909\n",
       "64810    4.168939\n",
       "64811    4.657056\n",
       "64812    4.397419\n",
       "Name: REALINC, Length: 58293, dtype: float64"
      ]
     },
     "execution_count": 39,
     "metadata": {},
     "output_type": "execute_result"
    }
   ],
   "source": [
    "# Log-transformed\n",
    "inc_log = np.log10(inc)\n",
    "inc_log"
   ]
  },
  {
   "cell_type": "code",
   "execution_count": 40,
   "id": "1b3daccf",
   "metadata": {},
   "outputs": [
    {
     "name": "stdout",
     "output_type": "stream",
     "text": [
      "4.318638044587746 0.44585421099644273\n"
     ]
    }
   ],
   "source": [
    "# Compute mean, std of log-transformed income\n",
    "mean2, std2 = inc_log.mean(), inc_log.std()\n",
    "\n",
    "print(mean2, std2)"
   ]
  },
  {
   "cell_type": "code",
   "execution_count": 41,
   "id": "057ff686",
   "metadata": {},
   "outputs": [
    {
     "data": {
      "text/plain": [
       "<matplotlib.legend.Legend at 0x28e02010e20>"
      ]
     },
     "execution_count": 41,
     "metadata": {},
     "output_type": "execute_result"
    },
    {
     "data": {
      "image/png": "[encoded data removed]",
      "text/plain": [
       "<Figure size 432x288 with 1 Axes>"
      ]
     },
     "metadata": {
      "needs_background": "light"
     },
     "output_type": "display_data"
    }
   ],
   "source": [
    "import matplotlib.pyplot as plt\n",
    "from scipy.stats import norm\n",
    "import seaborn as sns\n",
    "\n",
    "# Normal PDF\n",
    "xs = np.linspace(min(inc_log), max(inc_log))\n",
    "ys = norm(mean2, std2).pdf(xs)\n",
    "plt.plot(xs, ys, color='gray', label='Normal PDF')\n",
    "\n",
    "# KDE\n",
    "sns.kdeplot(inc_log, label='Estimated sample PDF')\n",
    "\n",
    "plt.xlabel('x')\n",
    "plt.ylabel('PDF')\n",
    "plt.title('Normal density function')\n",
    "plt.legend()"
   ]
  }
 ],
 "metadata": {
  "kernelspec": {
   "display_name": "Python 3 (ipykernel)",
   "language": "python",
   "name": "python3"
  },
  "language_info": {
   "codemirror_mode": {
    "name": "ipython",
    "version": 3
   },
   "file_extension": ".py",
   "mimetype": "text/x-python",
   "name": "python",
   "nbconvert_exporter": "python",
   "pygments_lexer": "ipython3",
   "version": "3.9.12"
  }
 },
 "nbformat": 4,
 "nbformat_minor": 5
}
