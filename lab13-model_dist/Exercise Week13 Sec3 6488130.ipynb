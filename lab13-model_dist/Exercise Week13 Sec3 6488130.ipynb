{
 "cells": [
  {
   "cell_type": "markdown",
   "id": "26b2a6c3",
   "metadata": {},
   "source": [
    "# Exercise Week 13\n",
    "\n",
    "### Exercise I:\n",
    "Given the distribution of heights is roughly normal with parameters µ = 178 cm and σ = 7.7 cm for men, and µ = 163 cm and σ = 7.3 cm for women.\n",
    "\n",
    "In order to join Blue Man Group, you have to be male between 5’10” and 6’1”. What percentage of the U.S. male population is in this range? Hint: use scipy.stats.norm.cdf.\n",
    "\n",
    "scipy.stats contains objects that represent analytic distributions"
   ]
  },
  {
   "cell_type": "code",
   "execution_count": 1,
   "id": "5b1eed51",
   "metadata": {},
   "outputs": [],
   "source": [
    "# create a normal distribution  with parameters µ = 178 cm and σ = 7.7 cm for men\n",
    "# use distribution.mean and standand variace to find out CDF of percentage of the U.S. male population is in this range\n",
    "# male height between 5’10” and 6’1” hint: convert to centimeter."
   ]
  },
  {
   "cell_type": "code",
   "execution_count": 16,
   "id": "7cbfe9ce",
   "metadata": {},
   "outputs": [
    {
     "name": "stdout",
     "output_type": "stream",
     "text": [
      "Percent of US male: 51.035086%\n"
     ]
    }
   ],
   "source": [
    "import scipy.stats\n",
    "\n",
    "mu, sigma = 178, 7.7\n",
    "dist = scipy.stats.norm(loc=mu, scale=sigma)\n",
    "\n",
    "# Convert feet and inch into cm\n",
    "h1 = (5 * 30.48) + (10 * 2.54)\n",
    "h2 = (6 * 30.48) + (11 * 2.54)\n",
    "\n",
    "# P(5'10\" < male_height < 6'11\")\n",
    "prob = dist.cdf(h2) - dist.cdf(h1)\n",
    "\n",
    "print(\"Percent of US male: %f\" %(prob * 100) + \"%\")"
   ]
  },
  {
   "cell_type": "markdown",
   "id": "7807ca2a",
   "metadata": {},
   "source": [
    "### Exercise II:\n",
    "For small values of __n__, we don’t expect an empirical distribution to fit an __analytic distribution exactly__. One way to evaluate the quality of fit is to generate a sample from an analytic distribution and see how well it matches the data.\n",
    "\n",
    "We will look at the interarrival time of births. On December 18, 1997, 44 babies were born in a hospital in Brisbane, Australia\n",
    "\n",
    "We plotted the distribution of time between births and saw that it is approximately exponential. But the distribution is based on only 44 data points.\n",
    "\n",
    "To see whether the data might have come from an exponential distribution, generate 44 values from an exponential distribution with the same mean as the data, about 33 minutes between births.\n",
    "\n",
    "__Plot the distribution of the random values and compare it to the actual distribution. You can use random.expovariate to generate the values.__"
   ]
  },
  {
   "cell_type": "code",
   "execution_count": 27,
   "id": "9f258cda",
   "metadata": {},
   "outputs": [
    {
     "name": "stdout",
     "output_type": "stream",
     "text": [
      "33.25581395348837\n"
     ]
    }
   ],
   "source": [
    "import analytic\n",
    "import thinkstats2\n",
    "import random\n",
    "import numpy as np\n",
    "\n",
    "df = analytic.ReadBabyBoom()\n",
    "diffs = df.minutes.diff()\n",
    "cdf_from_data = thinkstats2.Cdf(diffs, label=\"actual\")\n",
    "\n",
    "n = len(diffs)\n",
    "lam = 44.0 / 24 / 60 \n",
    "sample = [random.expovariate(lam) for _ in range(n)]\n",
    "\n",
    "1 / lam, np.mean(sample)\n",
    "print(np.mean(diffs)) # mean of actual data = 1 / lambda\n",
    "\n",
    "# how to create model's cdf?\n",
    "model = thinkstats2.Cdf(sample, label=\"model\")"
   ]
  },
  {
   "cell_type": "code",
   "execution_count": 28,
   "id": "11b9ab55",
   "metadata": {},
   "outputs": [
    {
     "data": {
      "image/png": "[encoded data removed]",
      "text/plain": [
       "<Figure size 432x288 with 1 Axes>"
      ]
     },
     "metadata": {
      "needs_background": "light"
     },
     "output_type": "display_data"
    }
   ],
   "source": [
    "import thinkplot\n",
    "\n",
    "thinkplot.Cdfs([cdf_from_data, model], complement=True)"
   ]
  }
 ],
 "metadata": {
  "kernelspec": {
   "display_name": "Python 3 (ipykernel)",
   "language": "python",
   "name": "python3"
  },
  "language_info": {
   "codemirror_mode": {
    "name": "ipython",
    "version": 3
   },
   "file_extension": ".py",
   "mimetype": "text/x-python",
   "name": "python",
   "nbconvert_exporter": "python",
   "pygments_lexer": "ipython3",
   "version": "3.9.12"
  }
 },
 "nbformat": 4,
 "nbformat_minor": 5
}
