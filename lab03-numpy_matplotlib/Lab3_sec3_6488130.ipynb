{
 "cells": [
  {
   "cell_type": "markdown",
   "metadata": {},
   "source": [
    "### Exercises\n",
    "\n",
    "1. Using the $\\texttt{random}$  module, create a NumPy array, name A, with 2 rows and 3 columns that has entries that are random positive integers less than 14.  Print your array. Change the entry in the __second row, third column to 999__ and __double the value in the first row, second column__. Print the resulting array to check that your code has made the correct modifications."
   ]
  },
  {
   "cell_type": "code",
   "execution_count": 1,
   "metadata": {
    "scrolled": true
   },
   "outputs": [
    {
     "name": "stdout",
     "output_type": "stream",
     "text": [
      "Requirement already satisfied: numpy in /opt/conda/lib/python3.9/site-packages (1.23.2)\n",
      "Requirement already satisfied: matplotlib in /opt/conda/lib/python3.9/site-packages (3.5.3)\n",
      "Requirement already satisfied: kiwisolver>=1.0.1 in /opt/conda/lib/python3.9/site-packages (from matplotlib) (1.4.4)\n",
      "Requirement already satisfied: numpy>=1.17 in /opt/conda/lib/python3.9/site-packages (from matplotlib) (1.23.2)\n",
      "Requirement already satisfied: pillow>=6.2.0 in /opt/conda/lib/python3.9/site-packages (from matplotlib) (9.2.0)\n",
      "Requirement already satisfied: packaging>=20.0 in /opt/conda/lib/python3.9/site-packages (from matplotlib) (21.2)\n",
      "Requirement already satisfied: fonttools>=4.22.0 in /opt/conda/lib/python3.9/site-packages (from matplotlib) (4.37.1)\n",
      "Requirement already satisfied: cycler>=0.10 in /opt/conda/lib/python3.9/site-packages (from matplotlib) (0.11.0)\n",
      "Requirement already satisfied: pyparsing>=2.2.1 in /opt/conda/lib/python3.9/site-packages (from matplotlib) (2.4.7)\n",
      "Requirement already satisfied: python-dateutil>=2.7 in /opt/conda/lib/python3.9/site-packages (from matplotlib) (2.8.2)\n",
      "Requirement already satisfied: six>=1.5 in /opt/conda/lib/python3.9/site-packages (from python-dateutil>=2.7->matplotlib) (1.16.0)\n"
     ]
    }
   ],
   "source": [
    "!pip install numpy\n",
    "!pip install matplotlib "
   ]
  },
  {
   "cell_type": "code",
   "execution_count": 2,
   "metadata": {},
   "outputs": [
    {
     "name": "stdout",
     "output_type": "stream",
     "text": [
      "Original RANDOM Array:\n",
      " [[ 4 13 10]\n",
      " [ 7  6  4]]\n",
      "After Change the entry in the second row, third column to 999:\n",
      " [[  4  13  10]\n",
      " [  7   6 999]]\n",
      "After double the value in the first row, second column:\n",
      " [[  4  26  10]\n",
      " [  7   6 999]]\n"
     ]
    }
   ],
   "source": [
    "import numpy as np\n",
    "A = np.random.randint(size=(2,3), low=1, high=14)\n",
    "print('Original RANDOM Array:\\n', A)\n",
    "\n",
    "A[1,2] = 999\n",
    "print('After Change the entry in the second row, third column to 999:\\n', A)\n",
    "\n",
    "A[0,1] *= 2\n",
    "print('After double the value in the first row, second column:\\n', A)"
   ]
  },
  {
   "cell_type": "markdown",
   "metadata": {},
   "source": [
    "- Using the $\\texttt{random}$  module, create a NumPy array with 3 rows and 3 columns, names as A,that has entries that are random positive integers less than 50.  Print your array. Now divides each value in the matrix by 5 and then add 10 to all the enteries in the second row. After that, divide each diagonal entry by 15 and print the resulting array to check that your code has made the correct modifications."
   ]
  },
  {
   "cell_type": "code",
   "execution_count": 15,
   "metadata": {},
   "outputs": [
    {
     "name": "stdout",
     "output_type": "stream",
     "text": [
      "original Random Matrix A:\n",
      " [[16 32 48]\n",
      " [40 15  8]\n",
      " [27 14 25]]\n",
      "After A is divided by 5\n",
      " [[3.2 6.4 9.6]\n",
      " [8.  3.  1.6]\n",
      " [5.4 2.8 5. ]]\n",
      "After second row of A added with 10\n",
      " [[ 3.2  6.4  9.6]\n",
      " [18.  13.  11.6]\n",
      " [ 5.4  2.8  5. ]]\n",
      "After divided diagonal of A\n",
      " [[ 0.21333333  6.4         9.6       ]\n",
      " [18.          0.86666667 11.6       ]\n",
      " [ 5.4         2.8         0.33333333]]\n"
     ]
    }
   ],
   "source": [
    "A = np.random.randint(size=(3,3), low=1, high=50)\n",
    "print('original Random Matrix A:\\n', A)\n",
    "\n",
    "A = A/5\n",
    "print('After A is divided by 5\\n', A)\n",
    "\n",
    "A[1] += 10\n",
    "print('After second row of A added with 10\\n', A)\n",
    "\n",
    "for i in range(3):\n",
    "    A[i, i] /= 15\n",
    "print('After divided diagonal of A\\n', A)"
   ]
  },
  {
   "cell_type": "markdown",
   "metadata": {},
   "source": [
    "- Using the $\\texttt{random}$  module, create a NumPy array with 2 rows and 2 columns that has entries that are random integers greater than 5 and less than 15.    Write code that sets all even entries of the matrix to itemself square.  Print the array and check the results.  Run the code several times to check that it works for *different* random arrays. "
   ]
  },
  {
   "cell_type": "code",
   "execution_count": 16,
   "metadata": {},
   "outputs": [
    {
     "name": "stdout",
     "output_type": "stream",
     "text": [
      "[[ 8 12]\n",
      " [ 9  6]]\n",
      "[[ 64 144]\n",
      " [  9  36]]\n"
     ]
    }
   ],
   "source": [
    "X = np.random.randint(size=(2,2), low=6, high=15)\n",
    "\n",
    "print(X)\n",
    "\n",
    "# Search for a list for index that has an even element value\n",
    "# Then square all of the entries that are even\n",
    "X[X%2==0] **= 2 \n",
    "\n",
    "print(X)"
   ]
  },
  {
   "cell_type": "markdown",
   "metadata": {},
   "source": [
    "- Create a NumPy array with 2 rows and 4 columns and assign it the name A.  Fill it with some values of your choice.  Create a new array $B$ that has the columns of $A$ as it's rows.  Print $A$ and $B$.  Below is an example of one such pair of arrays.\n",
    "\n",
    "$$\n",
    "\\begin{equation}\n",
    "A = \\left[ \\begin{array}{cc} 1 & 3 & 1 \\\\ 0 & 2 & 2 \\\\ 5 & 0 & 3  \\end{array}\\right]\\hspace{1cm}\n",
    "B = \\left[ \\begin{array}{cccc} 1 & 0 & 5  \\\\ 3 & 2 & 0 \\\\ 1 & 2 & 3 \\end{array}\\right]\\hspace{1cm}\n",
    "\\end{equation}\n",
    "$$"
   ]
  },
  {
   "cell_type": "code",
   "execution_count": 17,
   "metadata": {},
   "outputs": [
    {
     "name": "stdout",
     "output_type": "stream",
     "text": [
      "A =\n",
      " [[0 1 4 5]\n",
      " [4 5 3 5]]\n",
      "B =\n",
      " [[0. 4.]\n",
      " [1. 5.]\n",
      " [4. 3.]\n",
      " [5. 5.]]\n"
     ]
    }
   ],
   "source": [
    "Ar = 2 # Row size of A\n",
    "Ac = 4 # Column size of A\n",
    "\n",
    "# Generate random NumPy array with Ar rows and Ac columns\n",
    "A = np.random.randint(6, size=(Ar, Ac))\n",
    "print('A =\\n', A)\n",
    "\n",
    "# Create zero matrix with Ac rows and Ar columns\n",
    "B = np.zeros((Ac,Ar))\n",
    "for i in range(Ar):\n",
    "    for j in range(Ac):\n",
    "        B[j,i] = A[i,j] # Transpose\n",
    "print('B =\\n', B)"
   ]
  },
  {
   "cell_type": "markdown",
   "metadata": {},
   "source": [
    "- Using matplotlib to plot the following points using the red *cross* symbol: (1, 3), (2,8), (3, 20), (4, 54).  Add a grid that consists of dotted lines as in Example 2. Set the limits of $x$-axis to 0 and 5.  Set the limits of the $y$-axis to 0 and 75.  The numbers and gridlines should appear at intervals of 1.25 units along the $x$-axis and at intervals of 15 units along the $y$-axis.  Label the $x$-axis as \"*Time*\" and the $y$-axis as \"*Distance*\"."
   ]
  },
  {
   "cell_type": "code",
   "execution_count": 24,
   "metadata": {},
   "outputs": [
    {
     "data": {
      "text/plain": [
       "Text(0, 0.5, 'Distance')"
      ]
     },
     "execution_count": 24,
     "metadata": {},
     "output_type": "execute_result"
    },
    {
     "data": {
      "image/png": "[encoded data removed]",
      "text/plain": [
       "<Figure size 432x288 with 1 Axes>"
      ]
     },
     "metadata": {
      "needs_background": "light"
     },
     "output_type": "display_data"
    }
   ],
   "source": [
    "import matplotlib.pyplot as plt\n",
    "\n",
    "# Domain - X\n",
    "x = np.array([1, 2, 3, 4])\n",
    "# Range - Y\n",
    "y = np.array([3, 8, 20, 54])\n",
    "\n",
    "fig, ax = plt.subplots()\n",
    "ax.plot(x,y, 'rx--') # r =red | x = marked x on each coordinate | -- = dashed linestyle\n",
    "\n",
    "# Limit of x-axis\n",
    "ax.set_xlim(0,5)\n",
    "\n",
    "# Limit of y-axis\n",
    "ax.set_ylim(0,75)\n",
    "\n",
    "# Show gridlines\n",
    "ax.grid(True, ls='dotted')\n",
    "\n",
    "# Set numbers and gridlines intervals\n",
    "ax.set_xticks(np.linspace(0,5,int(5/1.25) + 1))\n",
    "ax.set_yticks(np.linspace(0,75,int(75/15) + 1))\n",
    "\n",
    "# Labels\n",
    "ax.set_xlabel('Time')\n",
    "ax.set_ylabel('Distance')"
   ]
  },
  {
   "cell_type": "markdown",
   "metadata": {},
   "source": [
    "- Use matplotlib to plot the curve $y= \\exp{x}$ where $x$ lies in the interval $[-7,7]$.  Follow Example 2 and use $\\texttt{linspace}$ to generate an array of coordinates of points on the curve. The curve should be dashed and shown in green color. The numbers and gridlines should appear at intervals of 2 unit along the $x$-axis. Draw the lines $x=0$, and $y=0$ with black colour and 1 unit width. Add a grid that consists of dashed lines."
   ]
  },
  {
   "cell_type": "code",
   "execution_count": 23,
   "metadata": {},
   "outputs": [
    {
     "data": {
      "text/plain": [
       "<matplotlib.lines.Line2D at 0x7f9f5cc1ce50>"
      ]
     },
     "execution_count": 23,
     "metadata": {},
     "output_type": "execute_result"
    },
    {
     "data": {
      "image/png": "[encoded data removed]",
      "text/plain": [
       "<Figure size 432x288 with 1 Axes>"
      ]
     },
     "metadata": {
      "needs_background": "light"
     },
     "output_type": "display_data"
    }
   ],
   "source": [
    "# Domain - X\n",
    "precision = 100\n",
    "x = np.linspace(-7,7,precision)\n",
    "# Range - Y\n",
    "y = np.exp(x)\n",
    "\n",
    "fig, ax = plt.subplots()\n",
    "ax.plot(x,y, 'g', ls='dashed')\n",
    "\n",
    "# Set Limit\n",
    "ax.set_xlim(-2,10)\n",
    "ax.set_ylim(-2,1500)\n",
    "\n",
    "# Show gridlines\n",
    "ax.grid(True,ls='dashed', linewidth = 0.5)\n",
    "\n",
    "# Set numbers and gridlines intervals\n",
    "ax.set_xticks(np.linspace(-2, 10, int(abs(-2 - 10)/2) + 1))\n",
    "ax.set_yticks(np.linspace(-2, 1500, int(abs(-2 - 1500)/150) + 1))\n",
    "\n",
    "# Draw the lines x = 0 and y = 0\n",
    "ax.axvline(color='k',linewidth = 1)\n",
    "ax.axhline(color='k',linewidth = 1)"
   ]
  },
  {
   "cell_type": "markdown",
   "metadata": {},
   "source": [
    "### References\n",
    "\n",
    "- Harris, C. R. et. al. [*Array Programming with NumPy*](https://www.nature.com/articles/s41586-020-2649-2)., Nature 585, 357-362, 2020.\n",
    "- [A Crash Course in Python for Scientists](https://nbviewer.jupyter.org/gist/rpmuller/5920182)\n"
   ]
  }
 ],
 "metadata": {
  "kernelspec": {
   "display_name": "Python 3 (ipykernel)",
   "language": "python",
   "name": "python3"
  },
  "language_info": {
   "codemirror_mode": {
    "name": "ipython",
    "version": 3
   },
   "file_extension": ".py",
   "mimetype": "text/x-python",
   "name": "python",
   "nbconvert_exporter": "python",
   "pygments_lexer": "ipython3",
   "version": "3.9.7"
  }
 },
 "nbformat": 4,
 "nbformat_minor": 4
}
