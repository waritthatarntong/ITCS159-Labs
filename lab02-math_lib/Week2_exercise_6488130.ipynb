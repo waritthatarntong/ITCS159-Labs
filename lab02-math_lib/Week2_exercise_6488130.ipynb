{
 "cells": [
  {
   "cell_type": "markdown",
   "id": "4be4d78b",
   "metadata": {},
   "source": [
    "# Week 2 Exercises"
   ]
  },
  {
   "cell_type": "markdown",
   "id": "b4d86c2c",
   "metadata": {},
   "source": [
    "1. Ask you user to input computer age if the input is not match with random one generated from initial state of your programe, (20 -50), let user reenter until it is match."
   ]
  },
  {
   "cell_type": "code",
   "execution_count": 4,
   "id": "86d8039f",
   "metadata": {},
   "outputs": [
    {
     "name": "stdout",
     "output_type": "stream",
     "text": [
      "Guess a number: 20\n",
      "Guess a number: 17\n",
      "Guess a number: 18\n",
      "Guess a number: 19\n",
      "Guess a number: 21\n",
      "Guess a number: 22\n",
      "Guess a number: 23\n",
      "Matched\n"
     ]
    }
   ],
   "source": [
    "import random\n",
    "random = random.randrange(17, 25)\n",
    "\n",
    "while True:\n",
    "    number = int(input(\"Guess a number: \"))\n",
    "    if number == random:\n",
    "        print(\"Matched\")\n",
    "        break"
   ]
  },
  {
   "cell_type": "markdown",
   "id": "580840ce",
   "metadata": {},
   "source": [
    "2. Given list of degree x = {15,30,45,60,90,120,180, 225, 270, 360}, create table $$ sin(\\frac{x}{2}) = \\sqrt{\\frac{(1- cos(x))}{2}} $$   \n",
    "Show table that left equats to the right side.\n",
    "Note: sin() or cos() accepts input radian unit."
   ]
  },
  {
   "cell_type": "code",
   "execution_count": 2,
   "id": "e526300c",
   "metadata": {},
   "outputs": [
    {
     "name": "stdout",
     "output_type": "stream",
     "text": [
      "_________________________________________________________\n",
      "|  x  |  sin(x/2) | cos(sqrt(1 - cos(x)) / 2) |  Equal  |\n",
      "|_____|___________|___________________________|_________|\n",
      "|  15 |  0.13053  |          0.13053          |   True  |\n",
      "|  30 |  0.25882  |          0.25882          |   True  |\n",
      "|  45 |  0.38268  |          0.38268          |   True  |\n",
      "|  60 |      0.5  |              0.5          |   True  |\n",
      "|  90 |  0.70711  |          0.70711          |   True  |\n",
      "| 120 |  0.86603  |          0.86603          |   True  |\n",
      "| 180 |      1.0  |              1.0          |   True  |\n",
      "| 225 |  0.92388  |          0.92388          |   True  |\n",
      "| 270 |  0.70711  |          0.70711          |   True  |\n",
      "| 360 |      0.0  |              0.0          |   True  |\n",
      "|_____|___________|___________________________|_________|\n"
     ]
    }
   ],
   "source": [
    "from math import *\n",
    "x = [15, 30, 45, 60, 90, 120, 180, 225, 270, 360] # List of degrees that we want to test\n",
    "n = 10 # list x size\n",
    "\n",
    "# Convert each degree in list of degrees to radians\n",
    "r = []\n",
    "for a in x:\n",
    "    r.append(radians(a))\n",
    "    \n",
    "# Create an empty list to store the result of the calculations\n",
    "sinA = []\n",
    "cosA = []\n",
    "\n",
    "# Append the result calculated from formula into sinA list  \n",
    "for a in r:\n",
    "    sinA.append(sin(a/2))\n",
    "    cosA.append(sqrt((1 - cos(a)) / 2))\n",
    "    \n",
    "\n",
    "# Displaying the result\n",
    "# Row header\n",
    "print(\"_________________________________________________________\")\n",
    "print(\"|  x  |  sin(x/2) | cos(sqrt(1 - cos(x)) / 2) |  Equal  |\")\n",
    "print(\"|_____|___________|___________________________|_________|\")\n",
    "\n",
    "# Display the results\n",
    "# round(num, sigfig) -> rounding number to a certain significant figure\n",
    "for i in range(n):\n",
    "    print(f\"| {x[i]:>3} |  {round(sinA[i], 5):>7}  |          {round(cosA[i], 5):>7}          |   {round(cosA[i], 5) == round(sinA[i], 5)}  |\")\n",
    "print(\"|_____|___________|___________________________|_________|\")"
   ]
  },
  {
   "cell_type": "markdown",
   "id": "bab1e17f",
   "metadata": {},
   "source": [
    "3. Given n ={1, 10, 100, 1000, 10000, 1000000}: $$y(n)= \\left(1+\\frac{1}{n}\\right)^n$$ print list of n and y(n).\n",
    "What is limit value of the following equation:- $$\\lim_{n \\to +\\infty} \\left(1+\\frac{1}{n}\\right)^n$$"
   ]
  },
  {
   "cell_type": "code",
   "execution_count": 3,
   "id": "12128327",
   "metadata": {},
   "outputs": [
    {
     "name": "stdout",
     "output_type": "stream",
     "text": [
      "2.0\n",
      "2.5937424601000023\n",
      "2.7048138294215285\n",
      "2.7169239322355936\n",
      "2.7181459268249255\n",
      "2.7182804690957534\n",
      "2.7182816941320818\n",
      "\n",
      "-0.010456551797526359\n",
      "-0.00013214806363182063\n",
      "-1.3552991702248107e-06\n",
      "-1.3588310032730533e-08\n",
      "-1.0326806076932371e-10\n",
      "-3.605635789938333e-10\n",
      "-2.1725243826153928e-10\n",
      "-2.7182817774473733e-08\n",
      "-2.718282487990109e-09\n",
      "-2.7182789352764303e-10\n",
      "-2.7182700534922333e-11\n",
      "-2.7187141427020833e-12\n",
      "-2.7133850721838826e-13\n",
      "-2.708944180085382e-14\n",
      "-3.552713678800501e-15\n",
      "0.0\n",
      "\n",
      "The difference between two consecutive result is getting smaller and smaller to the point that it reaches the limit of this computer's calculation\n",
      "And the result is approaches 'e'\n"
     ]
    }
   ],
   "source": [
    "from math import *\n",
    "n = [1, 10, 100, 1000, 10000, 1000000, 10000000]\n",
    "\n",
    "for i in n:\n",
    "    y = pow(1 + 1/i, i)\n",
    "    print(y)\n",
    "\n",
    "print()\n",
    "i = 1\n",
    "while (pow(1 + 1/i, i) - pow(1 + (1/(i+1)), i+1)) < 0:\n",
    "       i *= 10\n",
    "       print(pow(1 + 1/i, i) - pow(1 + (1/(i+1)), i+1))\n",
    "\n",
    "print()\n",
    "print(\"The difference between two consecutive result is getting smaller and smaller to the point that it reaches the limit of this computer's calculation\")\n",
    "print(\"And the result is approaches 'e'\")"
   ]
  }
 ],
 "metadata": {
  "kernelspec": {
   "display_name": "Python 3 (ipykernel)",
   "language": "python",
   "name": "python3"
  },
  "language_info": {
   "codemirror_mode": {
    "name": "ipython",
    "version": 3
   },
   "file_extension": ".py",
   "mimetype": "text/x-python",
   "name": "python",
   "nbconvert_exporter": "python",
   "pygments_lexer": "ipython3",
   "version": "3.9.12"
  }
 },
 "nbformat": 4,
 "nbformat_minor": 5
}
