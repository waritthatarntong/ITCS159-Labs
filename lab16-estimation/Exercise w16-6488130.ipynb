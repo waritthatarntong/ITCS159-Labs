{
 "cells": [
  {
   "cell_type": "markdown",
   "id": "54c5b5e2",
   "metadata": {},
   "source": [
    "# Execise Week 16 Estimation"
   ]
  },
  {
   "cell_type": "markdown",
   "id": "78a5f875",
   "metadata": {},
   "source": [
    "Exercise I: In this chapter we used $\\bar x$ and median to estimate µ, and found that $\\bar x$ yields lower MSE. Also, we used $S^2$ and $S_{n-1}^2$\n",
    " to estimate σ, and found that $S^2$  is biased and $S_{n-1}^2$ unbiased. Run similar experiments to see if $\\bar x$  and median are biased estimates of µ. Also check whether $S^2$ or $S_{n-1}^2$  yields a lower MSE."
   ]
  },
  {
   "cell_type": "code",
   "execution_count": 1,
   "id": "d86e9d84",
   "metadata": {},
   "outputs": [],
   "source": [
    "import numpy as np\n",
    "import random"
   ]
  },
  {
   "cell_type": "code",
   "execution_count": 2,
   "id": "424d28d5",
   "metadata": {},
   "outputs": [],
   "source": [
    "def MSE(estimates, actual):\n",
    "    e2 = [(estimate-actual)**2 for estimate in estimates]\n",
    "    mse = np.mean(e2)\n",
    "    return mse"
   ]
  },
  {
   "cell_type": "code",
   "execution_count": 3,
   "id": "e289d37b",
   "metadata": {},
   "outputs": [],
   "source": [
    "# Experiment to see if xbar and median are biased estimates of mu\n",
    "\n",
    "# m = number of time we work on data\n",
    "# n = size of the sample\n",
    "def Estimate(n=7, m=1000):\n",
    "    mu = 0 \n",
    "    sigma = 1\n",
    "    means = []\n",
    "    medians = []\n",
    "    for _ in range(m):\n",
    "        xs = [random.gauss(mu, sigma) for i in range(n)]  \n",
    "        xbar = np.mean(xs)\n",
    "        median = np.median(xs) \n",
    "        means.append(xbar) \n",
    "        medians.append(median) \n",
    "    print(f'sample mean:   {np.mean(means)}')\n",
    "    print(f'sample median:   {np.median(medians)}')\n",
    "    print(f'long term mean or distribution mean:  {mu} \\n')\n",
    "    \n",
    "    print('mse xbar', MSE(means, mu))\n",
    "    print('mse median', MSE(medians, mu))"
   ]
  },
  {
   "cell_type": "code",
   "execution_count": 4,
   "id": "8a4c11b6",
   "metadata": {},
   "outputs": [
    {
     "name": "stdout",
     "output_type": "stream",
     "text": [
      "sample mean:   0.008141121901174149\n",
      "sample median:   0.019051095253900523\n",
      "long term mean or distribution mean:  0 \n",
      "\n",
      "mse xbar 0.13700445597398994\n",
      "mse median 0.20609868542086288\n"
     ]
    }
   ],
   "source": [
    "Estimate()"
   ]
  },
  {
   "cell_type": "code",
   "execution_count": 5,
   "id": "8b95cf0d",
   "metadata": {},
   "outputs": [],
   "source": [
    "# Check whether biased or unbiased variance yields a lower MSE\n",
    "def Estimate_var(n=7, m=1000):\n",
    "    mu = 0\n",
    "    sigma = 1\n",
    "    estimates1 = []\n",
    "    estimates2 = []\n",
    "    for _ in range(m):\n",
    "        xs = [random.gauss(mu, sigma) for i in range(n)]\n",
    "        biased = np.var(xs)\n",
    "        unbiased = np.var(xs, ddof=1)\n",
    "        estimates1.append(biased)\n",
    "        estimates2.append(unbiased)\n",
    "    print(f'mean biased sample variance  {np.mean(biased)}')\n",
    "    print(f'mean UNbiased sample variance  {np.mean(unbiased)} \\n ')\n",
    "    \n",
    "    print('MSE biased', MSE(estimates1, sigma**2))\n",
    "    print('MSE UNbiased', MSE(estimates2, sigma**2))"
   ]
  },
  {
   "cell_type": "code",
   "execution_count": 6,
   "id": "bc9349b4",
   "metadata": {},
   "outputs": [
    {
     "name": "stdout",
     "output_type": "stream",
     "text": [
      "mean biased sample variance  1.5691931925480396\n",
      "mean UNbiased sample variance  1.8307253913060462 \n",
      " \n",
      "MSE biased 0.25698743222933956\n",
      "MSE UNbiased 0.3244808402125382\n"
     ]
    }
   ],
   "source": [
    "Estimate_var()"
   ]
  },
  {
   "cell_type": "markdown",
   "id": "b8dd5b15",
   "metadata": {},
   "source": [
    "Exercise II: Suppose you draw a sample with size n=9 from an exponential distribution with λ=3. Simulate this experiment 1500 times and plot the sampling distribution of the estimate L. Compute the standard error (RMSE) of the estimate and the 90% confidence interval.\n",
    "\n",
    "Repeat the experiment with a few different values of n={20, 200, 800} and make a plot of standard error versus n."
   ]
  },
  {
   "cell_type": "code",
   "execution_count": 18,
   "id": "e5b4dde8",
   "metadata": {},
   "outputs": [],
   "source": [
    "import numpy as np\n",
    "import random\n",
    "import math\n",
    "import scipy.stats as st\n",
    "import matplotlib.pyplot as plt\n",
    "\n",
    "import thinkstats2\n",
    "import thinkplot"
   ]
  },
  {
   "cell_type": "code",
   "execution_count": 19,
   "id": "86af06dc",
   "metadata": {},
   "outputs": [],
   "source": [
    "def RMSE(estimates, actual):\n",
    "    e2 = [(estimate-actual)**2 for estimate in estimates]\n",
    "    mse = np.mean(e2)\n",
    "    return math.sqrt(mse)"
   ]
  },
  {
   "cell_type": "code",
   "execution_count": 20,
   "id": "7771e4bb",
   "metadata": {},
   "outputs": [],
   "source": [
    "def Estimate3(n, iters=1500):\n",
    "    lam = 3\n",
    "\n",
    "    means = []\n",
    "    for _ in range(iters):\n",
    "        xs = np.random.exponential(1.0/lam, n)\n",
    "        L = 1 / np.mean(xs)\n",
    "        means.append(L)\n",
    "    print(f'sample mean lamda:  {np.mean(L)}')\n",
    "    rmse = RMSE(means, lam)\n",
    "    print('rmse L', rmse) \n",
    "    return means, rmse"
   ]
  },
  {
   "cell_type": "code",
   "execution_count": 21,
   "id": "b8300347",
   "metadata": {},
   "outputs": [],
   "source": [
    "def confident_interval(data, pc):\n",
    "    return st.t.interval(alpha=pc, df=len(data)-1, loc=np.mean(data), scale=st.sem(data))"
   ]
  },
  {
   "cell_type": "code",
   "execution_count": 22,
   "id": "4e0d2bea",
   "metadata": {},
   "outputs": [
    {
     "name": "stdout",
     "output_type": "stream",
     "text": [
      "sample mean lamda:  2.525063784066511\n",
      "rmse L 1.3463351909394936\n"
     ]
    }
   ],
   "source": [
    "means, rmse = Estimate3(9)"
   ]
  },
  {
   "cell_type": "code",
   "execution_count": 23,
   "id": "3c11d91f",
   "metadata": {},
   "outputs": [
    {
     "name": "stdout",
     "output_type": "stream",
     "text": [
      "90% CI is (3.293448598700014, 3.404008488821788)\n"
     ]
    }
   ],
   "source": [
    "# 90% confidence interval\n",
    "xl, xu = confident_interval(means, 0.9)\n",
    "print(f\"90% CI is ({xl}, {xu})\")"
   ]
  },
  {
   "cell_type": "code",
   "execution_count": 24,
   "id": "8c8ce4e6",
   "metadata": {},
   "outputs": [
    {
     "data": {
      "text/plain": [
       "{'xscale': 'linear', 'yscale': 'linear'}"
      ]
     },
     "execution_count": 24,
     "metadata": {},
     "output_type": "execute_result"
    },
    {
     "data": {
      "image/png": "[encoded data removed]",
      "text/plain": [
       "<Figure size 432x288 with 1 Axes>"
      ]
     },
     "metadata": {
      "needs_background": "light"
     },
     "output_type": "display_data"
    }
   ],
   "source": [
    "cdf = thinkstats2.Cdf(means)\n",
    "thinkplot.Cdf(cdf)"
   ]
  },
  {
   "cell_type": "code",
   "execution_count": 25,
   "id": "a3b901f2",
   "metadata": {},
   "outputs": [
    {
     "name": "stdout",
     "output_type": "stream",
     "text": [
      "sample mean lamda:  2.5141667043262546\n",
      "rmse L 0.7495187311446573\n",
      "sample mean lamda:  2.838019873027575\n",
      "rmse L 0.21392363723519925\n",
      "sample mean lamda:  2.8072549113503866\n",
      "rmse L 0.10842028554718\n"
     ]
    }
   ],
   "source": [
    "n = [20, 200, 800]\n",
    "meansLs = [0] * len(n)\n",
    "rmseLs = [0] * len(n)\n",
    "\n",
    "for i in range(len(n)):\n",
    "    meansLs[i], rmseLs[i] = Estimate3(n[i])"
   ]
  },
  {
   "cell_type": "code",
   "execution_count": 26,
   "id": "c3b0c3b4",
   "metadata": {},
   "outputs": [
    {
     "data": {
      "text/plain": [
       "Text(0, 0.5, 'Standard error (RMSE)')"
      ]
     },
     "execution_count": 26,
     "metadata": {},
     "output_type": "execute_result"
    },
    {
     "data": {
      "image/png": "[encoded data removed]",
      "text/plain": [
       "<Figure size 432x288 with 1 Axes>"
      ]
     },
     "metadata": {
      "needs_background": "light"
     },
     "output_type": "display_data"
    }
   ],
   "source": [
    "plt.plot(n, rmseLs)\n",
    "plt.title('Standard error vs n')\n",
    "plt.xlabel('n')\n",
    "plt.ylabel('Standard error (RMSE)')"
   ]
  }
 ],
 "metadata": {
  "kernelspec": {
   "display_name": "Python 3 (ipykernel)",
   "language": "python",
   "name": "python3"
  },
  "language_info": {
   "codemirror_mode": {
    "name": "ipython",
    "version": 3
   },
   "file_extension": ".py",
   "mimetype": "text/x-python",
   "name": "python",
   "nbconvert_exporter": "python",
   "pygments_lexer": "ipython3",
   "version": "3.9.12"
  }
 },
 "nbformat": 4,
 "nbformat_minor": 5
}
