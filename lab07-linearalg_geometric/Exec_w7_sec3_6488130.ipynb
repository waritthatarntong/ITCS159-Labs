{
 "cells": [
  {
   "cell_type": "markdown",
   "id": "3b48fabc-5833-4906-8bb9-442a89e1aab1",
   "metadata": {},
   "source": [
    "### Exercises"
   ]
  },
  {
   "cell_type": "markdown",
   "id": "afddb09d-8538-432c-9f54-26c579277007",
   "metadata": {},
   "source": [
    "**Exercise 1:** Given vector addition $U1 + U2$, let shows result of vector subtration $U1 - U2$"
   ]
  },
  {
   "cell_type": "code",
   "execution_count": 1,
   "id": "d80f7737-e43a-423b-8c2e-6901be5c771d",
   "metadata": {},
   "outputs": [
    {
     "name": "stdout",
     "output_type": "stream",
     "text": [
      "W= \n",
      " [[3]\n",
      " [2]]\n"
     ]
    },
    {
     "data": {
      "image/png": "[encoded data removed]",
      "text/plain": [
       "<Figure size 432x288 with 1 Axes>"
      ]
     },
     "metadata": {
      "needs_background": "light"
     },
     "output_type": "display_data"
    }
   ],
   "source": [
    "%matplotlib inline\n",
    "import numpy as np\n",
    "import matplotlib.pyplot as plt\n",
    "options = {\"head_width\":0.1, \"head_length\":0.2, \"length_includes_head\":True}\n",
    "\n",
    "U1 = np.array([[1, 3]]).transpose()\n",
    "U2 = np.array([[2, -1]]).transpose()\n",
    "W = U1+U2\n",
    "print(f'W= \\n', W)\n",
    "\n",
    "fig, ax = plt.subplots()\n",
    "\n",
    "ax.arrow(0,0,U1[0, 0],U1[1,0],fc='b',ec='b',**options)\n",
    "ax.arrow(U1[0, 0],U1[1,0],U2[0, 0],U2[1,0],fc='b',ec='b',**options)\n",
    "ax.arrow(0,0,W[0, 0],W[1,0],fc='r',ec='r',**options)\n",
    "\n",
    "ax.text(1,2,'$U_1$')\n",
    "ax.text(2,3,'$U_2$')\n",
    "ax.text(2,1,'$U_1+U_2$')\n",
    "\n",
    "ax.set_xlim(0,4)\n",
    "ax.set_ylim(0,4)\n",
    "ax.set_aspect('equal')\n",
    "ax.grid(True,ls=':')\n",
    "\n",
    "ax.set_xticks(np.arange(0,5,step = 1));\n",
    "ax.set_yticks(np.arange(0,5,step = 1));"
   ]
  },
  {
   "cell_type": "code",
   "execution_count": 51,
   "id": "92147371-29f4-4d35-8f64-ec6dbeb54de2",
   "metadata": {},
   "outputs": [
    {
     "name": "stdout",
     "output_type": "stream",
     "text": [
      "W= \n",
      " [[-1]\n",
      " [ 4]]\n"
     ]
    },
    {
     "data": {
      "image/png": "[encoded data removed]",
      "text/plain": [
       "<Figure size 432x288 with 1 Axes>"
      ]
     },
     "metadata": {
      "needs_background": "light"
     },
     "output_type": "display_data"
    }
   ],
   "source": [
    "# U1 - U2\n",
    "%matplotlib inline\n",
    "import numpy as np\n",
    "import matplotlib.pyplot as plt\n",
    "options = {\"head_width\":0.1, \"head_length\":0.2, \"length_includes_head\":True}\n",
    "\n",
    "U1 = np.array([[1, 3]]).transpose()\n",
    "U2 = np.array([[2, -1]]).transpose()\n",
    "W = U1-U2\n",
    "print(f'W= \\n', W)\n",
    "\n",
    "fig, ax = plt.subplots()\n",
    "\n",
    "# U1 - U2 = U1 + (-1 * U2)\n",
    "ax.arrow(0,0,U1[0, 0],U1[1,0],fc='b',ec='b',**options)\n",
    "ax.arrow(U1[0, 0],U1[1,0],-1*U2[0, 0],-1*U2[1,0],fc='b',ec='b',**options)\n",
    "ax.arrow(0,0,W[0, 0],W[1,0],fc='r',ec='r',**options)\n",
    "\n",
    "ax.text(0.5,1,'$U_1$')\n",
    "ax.text(0,3.8,'$U_2$')\n",
    "ax.text(-1.5,2,'$U_1-U_2$')\n",
    "\n",
    "ax.set_xlim(-2,2)\n",
    "ax.set_ylim(0,5)\n",
    "ax.set_aspect('equal')\n",
    "ax.axvline(color='k',linewidth = 1)\n",
    "ax.axhline(color='k',linewidth = 1)\n",
    "ax.grid(True,ls=':')\n",
    "\n",
    "ax.set_xticks(np.arange(-2,5,step = 1));\n",
    "ax.set_yticks(np.arange(0,5,step = 1));"
   ]
  },
  {
   "cell_type": "markdown",
   "id": "b64259de-7f61-4a38-ba6a-fa120b640a89",
   "metadata": {},
   "source": [
    "**Exercise 2:** Find the vector $T(V)$ where\n",
    "\n",
    "$$\n",
    "\\begin{equation}\n",
    "V = \\left[\\begin{array}{r} 1 \\\\ 3 \\end{array} \\right]\n",
    "\\end{equation}\n",
    "$$\n",
    "\n",
    "Where $T:\\mathbb{R}^2 \\to \\mathbb{R}^3$ with the following symbolic formula.\n",
    "\n",
    "$$\n",
    "\\begin{equation}\n",
    "T \\left(\\left[\\begin{array}{r} v_1 \\\\ v_2 \\end{array} \\right]\\right) = \n",
    "\\left[\\begin{array}{r} 2v_1 \\\\ 0  \\\\ v_2 \\end{array} \\right]\n",
    "\\end{equation}\n",
    "$$\n"
   ]
  },
  {
   "cell_type": "code",
   "execution_count": 1,
   "id": "a3a48eac-303a-47ce-8edb-62fb6d089ad6",
   "metadata": {},
   "outputs": [
    {
     "name": "stdout",
     "output_type": "stream",
     "text": [
      "[[1]\n",
      " [3]] \n",
      "\n",
      " [[2.]\n",
      " [0.]\n",
      " [3.]]\n"
     ]
    }
   ],
   "source": [
    "import numpy as np\n",
    "\n",
    "def T(V):\n",
    "    W = np.zeros((3,1))\n",
    "    W[0,0] = 2*V[0,0]\n",
    "    W[2,0] = V[1,0]\n",
    "    return W\n",
    "\n",
    "V = np.array([[1], [3]])\n",
    "W = T(V)\n",
    "\n",
    "print(V, '\\n\\n', W)"
   ]
  },
  {
   "cell_type": "markdown",
   "id": "36fa9a3d-fde3-4605-9663-953c34c593a2",
   "metadata": {},
   "source": [
    "**Exercise 2:** Find the vector $U$ so that \n",
    "\n",
    "$$\n",
    "\\begin{equation}\n",
    "T(U) = \\left[\\begin{array}{r} 5 \\\\ 0 \\\\ -1 \\end{array} \\right]\n",
    "\\end{equation}\n",
    "$$"
   ]
  },
  {
   "cell_type": "code",
   "execution_count": 8,
   "id": "2663883d",
   "metadata": {},
   "outputs": [
    {
     "name": "stdout",
     "output_type": "stream",
     "text": [
      "T(U) =\n",
      "[[ 5]\n",
      " [ 0]\n",
      " [-1]]\n",
      "U =\n",
      "[[ 2.5]\n",
      " [-1. ]]\n",
      "\n",
      " Input U back to T:\n",
      " [[ 5.]\n",
      " [ 0.]\n",
      " [-1.]]\n"
     ]
    }
   ],
   "source": [
    "import numpy as np\n",
    "\n",
    "def T_rev(U):\n",
    "    return np.array([ [U[0,0] / 2], [U[2,0]] ])\n",
    "\n",
    "T_U = np.array([[5,0,-1]]).transpose()\n",
    "print(f\"T(U) =\\n{T_U}\")\n",
    "U = T_rev(T_U)\n",
    "print(f\"U =\\n{U}\")\n",
    "\n",
    "# Prove if when we input U back to T, is it the same as what we start with?\n",
    "print('\\n Input U back to T:\\n',T(U))"
   ]
  },
  {
   "cell_type": "markdown",
   "id": "29e540d7-8cb9-4429-befe-a5e9afeadff0",
   "metadata": {},
   "source": [
    "**Exercise 3:**  Consider the two transformations, $S$ and $R$, defined below.  Write a Python function that implements the composition $R\\circ S$.  Explain why it is not possible to form the composition $S \\circ R$.\n",
    "\n",
    "$$\n",
    "\\begin{equation}\n",
    "S \\left(\\left[\\begin{array}{r} v_1 \\\\ v_2 \\\\ v_3 \\end{array} \\right]\\right) = \n",
    "\\left[\\begin{array}{c}   v_1 + v_2 \\\\  3v_3 \\end{array} \\right]\n",
    "\\end{equation}\n",
    "$$\n",
    "\n",
    "$$\n",
    "\\begin{equation}\n",
    "R \\left(\\left[\\begin{array}{r} v_1 \\\\ v_2  \\end{array} \\right]\\right) = \n",
    "\\left[\\begin{array}{rr} 3 &  0 \\\\ -1 & 1 \\end{array}\\right]\n",
    "\\left[\\begin{array}{c}   v_1 \\\\ v_2 \\end{array} \\right]\n",
    "\\end{equation}\n",
    "$$\n",
    "\n",
    "Where input vector is \n",
    "$$\n",
    "\\begin{equation}\n",
    "V = \\left[\\begin{array}{r} 1 \\\\ 4 \\\\ -2  \\end{array}  \\right]\n",
    "\\end{equation}\n",
    "$$\n"
   ]
  },
  {
   "cell_type": "code",
   "execution_count": 54,
   "id": "24ccf3ae-1d19-4a0d-adca-f8900681cbb6",
   "metadata": {},
   "outputs": [
    {
     "name": "stdout",
     "output_type": "stream",
     "text": [
      "[[ 15.]\n",
      " [-11.]]\n"
     ]
    }
   ],
   "source": [
    "def S(V):\n",
    "    W = np.zeros((2,1))\n",
    "    W[0,0] = V[0,0] + V[1,0]\n",
    "    W[1,0] = 3*V[2,0]\n",
    "    return W\n",
    "\n",
    "def R(V):\n",
    "    T = np.array([[3,0],[-1,1]])\n",
    "    return T @ V\n",
    "    \n",
    "# R(S(V))\n",
    "def R_composed_with_S(V):\n",
    "    return R(S(V))\n",
    "\n",
    "V = np.array([[1],[4],[-2]])\n",
    "print(R_composed_with_S(V))"
   ]
  },
  {
   "cell_type": "markdown",
   "id": "a45a48c9",
   "metadata": {},
   "source": [
    "__Why S(R(V)) is not possible?__\n",
    "\n",
    "Since transformation $R$ takes vector $\\mathbb{R}^2$ as input, we cannot input vector $V$, which is a vector in $\\mathbb{R}^3$, to $R$.\n",
    "\n",
    "And since transformation $S$ takes vector $\\mathbb{R}^3$ as input, we cannot input the output of vector $R$, which is a $\\mathbb{R}^2$ vector, to $S$."
   ]
  },
  {
   "cell_type": "markdown",
   "id": "f7a08219-09bf-44f0-bea5-d0fb055cdb4a",
   "metadata": {},
   "source": [
    "**Exercise 4:** \n",
    "\n",
    "($a$) Find a matrix that represents the reflection about the $x_1$-axis. "
   ]
  },
  {
   "cell_type": "code",
   "execution_count": 55,
   "id": "d02368fc-9244-4c89-a26c-d09b4f475a76",
   "metadata": {},
   "outputs": [],
   "source": [
    "# Matrix that represent the reflection about the x-axis\n",
    "B = np.array( [ [-1, 0], [0, 1] ] )"
   ]
  },
  {
   "cell_type": "markdown",
   "id": "d7f41f78-2186-4a41-9fd4-69d6b6294399",
   "metadata": {},
   "source": [
    "($b$) Multiply the matrix by $\\texttt{coords}$ and plot the results."
   ]
  },
  {
   "cell_type": "code",
   "execution_count": 56,
   "id": "e1c0ba78",
   "metadata": {},
   "outputs": [
    {
     "name": "stdout",
     "output_type": "stream",
     "text": [
      "[[0.  0.5 0.5 0.  0. ]\n",
      " [0.  0.5 1.5 1.  0. ]]\n"
     ]
    },
    {
     "data": {
      "image/png": "[encoded data removed]",
      "text/plain": [
       "<Figure size 432x288 with 1 Axes>"
      ]
     },
     "metadata": {
      "needs_background": "light"
     },
     "output_type": "display_data"
    }
   ],
   "source": [
    "%matplotlib inline\n",
    "import matplotlib.pyplot as plt\n",
    "\n",
    "coords = np.array([[0,0],[0.5,0.5],[0.5,1.5],[0,1],[0,0]]).transpose()\n",
    "x = coords[0,:]\n",
    "y = coords[1,:]\n",
    "print(coords)\n",
    "\n",
    "# B x coords\n",
    "B_coords = B@coords\n",
    "x_Rf = B_coords[0,:]\n",
    "y_Rf = B_coords[1,:]\n",
    "\n",
    "# Create the figure and axes objects\n",
    "fig, ax = plt.subplots()\n",
    "\n",
    "# Plot\n",
    "ax.plot(x,y, 'ro--')\n",
    "ax.plot(x_Rf, y_Rf, 'bo-')\n",
    "\n",
    "# Edit some settings \n",
    "ax.axvline(x=0,color=\"k\",ls=\":\")\n",
    "ax.axhline(y=0,color=\"k\",ls=\":\")\n",
    "ax.grid(True)\n",
    "ax.axis([-2,2,-1,2])\n",
    "ax.set_aspect('equal')\n",
    "ax.set_title(\"Reflection\");"
   ]
  },
  {
   "cell_type": "markdown",
   "id": "10b64a9f-4ff4-42aa-9c1c-cfc227492f1d",
   "metadata": {},
   "source": [
    "**Exercise 5:** \n",
    "\n",
    "($a$) Find a matrix that represents the rotation clockwise by an angle $\\theta$. "
   ]
  },
  {
   "cell_type": "code",
   "execution_count": 53,
   "id": "67a9eb5b-78c1-4c18-a663-0f890419688e",
   "metadata": {},
   "outputs": [],
   "source": [
    "# Find a matrix that represents the rotation clockwise by an angle theta\n",
    "from math import cos, sin\n",
    "\n",
    "theta = 0\n",
    "R = np.array([ [cos(theta), -1*sin(theta)], [sin(theta), cos(theta)] ])"
   ]
  },
  {
   "cell_type": "markdown",
   "id": "75fb07fb-a5b4-4059-9148-10f88fa231ce",
   "metadata": {},
   "source": [
    "( 𝑏 ) Let  𝜃=90∘ . Multiply the matrix by  𝚌𝚘𝚘𝚛𝚍𝚜  and plot the results."
   ]
  },
  {
   "cell_type": "code",
   "execution_count": 52,
   "id": "25d0df65-8556-4cca-9f8b-8a29db3c11f5",
   "metadata": {},
   "outputs": [
    {
     "data": {
      "text/plain": [
       "Text(0.5, 1.0, 'Rotation')"
      ]
     },
     "execution_count": 52,
     "metadata": {},
     "output_type": "execute_result"
    },
    {
     "data": {
      "image/png": "[encoded data removed]",
      "text/plain": [
       "<Figure size 432x288 with 1 Axes>"
      ]
     },
     "metadata": {
      "needs_background": "light"
     },
     "output_type": "display_data"
    }
   ],
   "source": [
    "%matplotlib inline\n",
    "import matplotlib.pyplot as plt\n",
    "from math import radians \n",
    "theta = radians(90)\n",
    "R = np.array([ [cos(theta), -1*sin(theta)], [sin(theta), cos(theta)] ])\n",
    "\n",
    "# Coords\n",
    "coords = np.array([[0,0], [0.5,0.5], [0.5, 1.5], [0,1], [0,0]]).transpose()\n",
    "x = coords[0,:]\n",
    "y = coords[1,:]\n",
    "\n",
    "# R x coords\n",
    "R_coords = R @ coords\n",
    "x_Rt = R_coords[0,:]\n",
    "y_Rt = R_coords[1,:]\n",
    "\n",
    "# Create the figure and axes object\n",
    "fig, ax = plt.subplots()\n",
    "\n",
    "# Plot\n",
    "ax.plot(x,y, 'ro--')\n",
    "ax.plot(x_Rt, y_Rt, 'bo-')\n",
    "\n",
    "# Setting\n",
    "ax.axvline(x=0, color='k', ls=':')\n",
    "ax.axhline(y=0, color='k', ls=':')\n",
    "ax.grid(True)\n",
    "ax.axis([-2, 1, -1, 2])\n",
    "ax.set_aspect('equal')\n",
    "ax.set_title(\"Rotation\")"
   ]
  }
 ],
 "metadata": {
  "kernelspec": {
   "display_name": "Python 3 (ipykernel)",
   "language": "python",
   "name": "python3"
  },
  "language_info": {
   "codemirror_mode": {
    "name": "ipython",
    "version": 3
   },
   "file_extension": ".py",
   "mimetype": "text/x-python",
   "name": "python",
   "nbconvert_exporter": "python",
   "pygments_lexer": "ipython3",
   "version": "3.9.12"
  }
 },
 "nbformat": 4,
 "nbformat_minor": 5
}
