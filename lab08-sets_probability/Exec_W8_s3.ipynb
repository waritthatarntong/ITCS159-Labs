{
 "cells": [
  {
   "cell_type": "markdown",
   "id": "204a792c-7737-4b89-ba03-62d264b4f3e6",
   "metadata": {},
   "source": [
    "# Set Exercise"
   ]
  },
  {
   "cell_type": "markdown",
   "id": "a6452b75-d5b0-4cab-882d-0c16015bd4d5",
   "metadata": {},
   "source": [
    "##### 1. Given three set: A, B,C as \n",
    "A={1,3,4,5} \n",
    "\n",
    "B={2, 4, 5, 6}\n",
    "\n",
    "C={1, 5, 6, 7}\n",
    "\n",
    " Create the adjoining Venn diagram, print Intersection, find the following sets using Sympy Set or Python  library.\n"
   ]
  },
  {
   "cell_type": "markdown",
   "id": "6c9f6307-bb7d-483d-b5d7-45b25ac3f378",
   "metadata": {},
   "source": [
    "(0) A "
   ]
  },
  {
   "cell_type": "code",
   "execution_count": 16,
   "id": "e0a6ba43-e8e1-4598-bedc-4724a91a6bd6",
   "metadata": {},
   "outputs": [
    {
     "name": "stdout",
     "output_type": "stream",
     "text": [
      "{1, 3, 4, 5}\n"
     ]
    }
   ],
   "source": [
    "# Enter your code here.\n",
    "A = {1,3,4,5}\n",
    "print(A)"
   ]
  },
  {
   "cell_type": "markdown",
   "id": "384200dc-e7dc-4318-8d9e-8a7c61f55b7f",
   "metadata": {},
   "source": [
    "(i) B"
   ]
  },
  {
   "cell_type": "code",
   "execution_count": 17,
   "id": "efc50055-37f0-471c-8c54-fdbd7ac55ca7",
   "metadata": {},
   "outputs": [
    {
     "name": "stdout",
     "output_type": "stream",
     "text": [
      "{2, 4, 5, 6}\n"
     ]
    }
   ],
   "source": [
    "# Enter your code here.\n",
    "B = {2,4,5,6}\n",
    "print(B)"
   ]
  },
  {
   "cell_type": "markdown",
   "id": "bf3930f6-4d38-4ebf-9fd2-086cc5019091",
   "metadata": {},
   "source": [
    "(ii) C"
   ]
  },
  {
   "cell_type": "code",
   "execution_count": 18,
   "id": "f9c5de0c-fe8f-4d05-8e7e-4909819ca514",
   "metadata": {},
   "outputs": [
    {
     "name": "stdout",
     "output_type": "stream",
     "text": [
      "{1, 5, 6, 7}\n"
     ]
    }
   ],
   "source": [
    "# Enter your code here.\n",
    "C = {1,5,6,7}\n",
    "print(C)"
   ]
  },
  {
   "cell_type": "markdown",
   "id": "c2e2b73d-ca4b-435c-a786-93a3701c35b4",
   "metadata": {},
   "source": [
    "(iii) Universe"
   ]
  },
  {
   "cell_type": "code",
   "execution_count": 4,
   "id": "07e044d9-6a62-4bb3-831f-9b80ec113e59",
   "metadata": {},
   "outputs": [
    {
     "name": "stdout",
     "output_type": "stream",
     "text": [
      "{1, 2, 3, 4, 5, 6, 7}\n"
     ]
    }
   ],
   "source": [
    "# Enter your code here.\n",
    "U = A | B | C \n",
    "print(U)"
   ]
  },
  {
   "cell_type": "markdown",
   "id": "90760e5f-3155-4b63-b571-8d38a4d1088e",
   "metadata": {},
   "source": [
    "(iv) A'"
   ]
  },
  {
   "cell_type": "code",
   "execution_count": 29,
   "id": "4f0b9a35-ae3e-4ee7-b8b0-b1281ee452c4",
   "metadata": {},
   "outputs": [
    {
     "name": "stdout",
     "output_type": "stream",
     "text": [
      "{2, 6, 7}\n"
     ]
    }
   ],
   "source": [
    "# Enter your code here.\n",
    "print(U-A)"
   ]
  },
  {
   "cell_type": "markdown",
   "id": "bc5189bf-8508-479b-8126-36695fec481a",
   "metadata": {},
   "source": [
    "(v) B'"
   ]
  },
  {
   "cell_type": "code",
   "execution_count": 30,
   "id": "c5c5a5ee-d6bf-41c1-adbc-3511b1854e77",
   "metadata": {},
   "outputs": [
    {
     "name": "stdout",
     "output_type": "stream",
     "text": [
      "{1, 3, 7}\n"
     ]
    }
   ],
   "source": [
    "# Enter your code here.\n",
    "print(U-B)"
   ]
  },
  {
   "cell_type": "markdown",
   "id": "280fbdfd-13c1-4dc4-88a7-97e8ba748add",
   "metadata": {},
   "source": [
    "(vi) C'"
   ]
  },
  {
   "cell_type": "code",
   "execution_count": 31,
   "id": "dfd8b58d-c1dd-4638-bc4a-1120dfe06219",
   "metadata": {},
   "outputs": [
    {
     "name": "stdout",
     "output_type": "stream",
     "text": [
      "{2, 3, 4}\n"
     ]
    }
   ],
   "source": [
    "# Enter your code here.\n",
    "print(U-C)"
   ]
  },
  {
   "cell_type": "markdown",
   "id": "9cd32ff5-2a65-4e54-b355-dda70325a005",
   "metadata": {},
   "source": [
    "(vii) C - A"
   ]
  },
  {
   "cell_type": "code",
   "execution_count": 32,
   "id": "0da92cf6-b4c7-441d-ba70-d2f31a4b13e7",
   "metadata": {},
   "outputs": [
    {
     "name": "stdout",
     "output_type": "stream",
     "text": [
      "{6, 7}\n"
     ]
    }
   ],
   "source": [
    "# Enter your code here.\n",
    "print(C-A)"
   ]
  },
  {
   "cell_type": "markdown",
   "id": "c304b334-0ad6-4a09-bc87-7b64cc9c1a22",
   "metadata": {},
   "source": [
    "(viii) B - C"
   ]
  },
  {
   "cell_type": "code",
   "execution_count": 36,
   "id": "b77fe058-2c58-4870-ae2f-81fe614f10a5",
   "metadata": {},
   "outputs": [
    {
     "name": "stdout",
     "output_type": "stream",
     "text": [
      "{2, 4}\n"
     ]
    }
   ],
   "source": [
    "# Enter your code here.\n",
    "print(B-C)"
   ]
  },
  {
   "cell_type": "markdown",
   "id": "ce1fbca2-e024-401e-9e24-9d7dff02a051",
   "metadata": {},
   "source": [
    "(ix) A - B "
   ]
  },
  {
   "cell_type": "code",
   "execution_count": 19,
   "id": "f84ee60f-e927-4a22-a605-4afa896013c0",
   "metadata": {},
   "outputs": [
    {
     "name": "stdout",
     "output_type": "stream",
     "text": [
      "{1, 3}\n"
     ]
    }
   ],
   "source": [
    "# Enter your code here.\n",
    "print(A-B)"
   ]
  },
  {
   "cell_type": "markdown",
   "id": "c21b6cb2-796d-402a-baa9-1a8ff4307f51",
   "metadata": {},
   "source": [
    "(x) A ∪ B "
   ]
  },
  {
   "cell_type": "code",
   "execution_count": 35,
   "id": "cca2ec94-66f4-42bc-a473-b495f3e3dc8d",
   "metadata": {},
   "outputs": [
    {
     "name": "stdout",
     "output_type": "stream",
     "text": [
      "{1, 2, 3, 4, 5, 6}\n"
     ]
    }
   ],
   "source": [
    "# Enter your code here.\n",
    "print(A|B)"
   ]
  },
  {
   "cell_type": "markdown",
   "id": "23a00fcc-b8f2-4116-b910-8fd8c5a1d05a",
   "metadata": {},
   "source": [
    "(xi) B ∪ C "
   ]
  },
  {
   "cell_type": "code",
   "execution_count": 37,
   "id": "c0a23014-48bc-48ae-b009-3885333ced43",
   "metadata": {},
   "outputs": [
    {
     "name": "stdout",
     "output_type": "stream",
     "text": [
      "{1, 2, 4, 5, 6, 7}\n"
     ]
    }
   ],
   "source": [
    "# Enter your code here.\n",
    "print(B|C)"
   ]
  },
  {
   "cell_type": "markdown",
   "id": "25cbbeef-4590-47b6-852a-0ed4f32aa606",
   "metadata": {},
   "source": [
    "(xii) A ∩ C "
   ]
  },
  {
   "cell_type": "code",
   "execution_count": 38,
   "id": "65004cc5-eb98-4428-96ca-aeccfe72ce86",
   "metadata": {},
   "outputs": [
    {
     "name": "stdout",
     "output_type": "stream",
     "text": [
      "{1, 5}\n"
     ]
    }
   ],
   "source": [
    "# Enter your code here.\n",
    "print(A&C)"
   ]
  },
  {
   "cell_type": "markdown",
   "id": "23c198d1-e1c1-4d0e-b633-b01909baeacd",
   "metadata": {},
   "source": [
    "(xiii) B ∩ C"
   ]
  },
  {
   "cell_type": "code",
   "execution_count": 39,
   "id": "0fd47c4a-2f10-4de0-afbd-61ec7dd82a4c",
   "metadata": {},
   "outputs": [
    {
     "name": "stdout",
     "output_type": "stream",
     "text": [
      "{5, 6}\n"
     ]
    }
   ],
   "source": [
    "# Enter your code here.\n",
    "print(B&C)"
   ]
  },
  {
   "cell_type": "markdown",
   "id": "1f5e5346",
   "metadata": {},
   "source": [
    "(xiv) (B ∪ C)'"
   ]
  },
  {
   "cell_type": "code",
   "execution_count": 40,
   "id": "c8259954-59e6-4e91-9aac-664c0b24240d",
   "metadata": {},
   "outputs": [
    {
     "name": "stdout",
     "output_type": "stream",
     "text": [
      "{3}\n"
     ]
    }
   ],
   "source": [
    "# Enter your code here.\n",
    "print(U-(B|C))"
   ]
  },
  {
   "cell_type": "markdown",
   "id": "4b9543ef-7dad-4a2f-8c66-a7ff7f63b822",
   "metadata": {},
   "source": [
    "(xv) (A ∩ B)'"
   ]
  },
  {
   "cell_type": "code",
   "execution_count": 41,
   "id": "f6577a27-4881-4eaf-a5f3-1b8b7d839154",
   "metadata": {},
   "outputs": [
    {
     "name": "stdout",
     "output_type": "stream",
     "text": [
      "{1, 2, 3, 6, 7}\n"
     ]
    }
   ],
   "source": [
    "# Enter your code here.\n",
    "print(U-(A&B))"
   ]
  },
  {
   "cell_type": "markdown",
   "id": "70d97da9-5be7-4c40-a48d-bd43b9c59c87",
   "metadata": {},
   "source": [
    "(xvi) (A ∪ B) ∩ C"
   ]
  },
  {
   "cell_type": "code",
   "execution_count": 42,
   "id": "44fbe570-8329-4ea2-8257-fe1bb04eed7d",
   "metadata": {},
   "outputs": [
    {
     "name": "stdout",
     "output_type": "stream",
     "text": [
      "{1, 5, 6}\n"
     ]
    }
   ],
   "source": [
    "# Enter your code here.\n",
    "print((A|B)&C)"
   ]
  },
  {
   "cell_type": "markdown",
   "id": "fbe56f54-6a85-40ec-b949-c25defbe1529",
   "metadata": {},
   "source": [
    "(xvii) A ∩ (B ∩ C) "
   ]
  },
  {
   "cell_type": "code",
   "execution_count": 43,
   "id": "e6b02cfc-f965-4115-9193-181655fc9e7c",
   "metadata": {},
   "outputs": [
    {
     "name": "stdout",
     "output_type": "stream",
     "text": [
      "{5}\n"
     ]
    }
   ],
   "source": [
    "# Enter your code here.\n",
    "print(A&B&C)"
   ]
  },
  {
   "cell_type": "markdown",
   "id": "ff4e7cce-94be-4b3c-99cd-70155ef28dc2",
   "metadata": {},
   "source": [
    "(xviii) With matplotlib-veen plot venn diagram(counting and explicit member) for 3 set above "
   ]
  },
  {
   "cell_type": "code",
   "execution_count": 22,
   "id": "60bb7637-31a5-4ad5-9dc2-b872e1b24740",
   "metadata": {},
   "outputs": [
    {
     "data": {
      "image/png": "[encoded data removed]",
      "text/plain": [
       "<Figure size 432x288 with 1 Axes>"
      ]
     },
     "metadata": {},
     "output_type": "display_data"
    }
   ],
   "source": [
    "# Enter your code here\n",
    "# There is bug for counting\n",
    "# coding: utf-8\n",
    "from matplotlib_venn import venn3 \n",
    "from matplotlib import pyplot as plt \n",
    "venn3(subsets=[A, B, C]) \n",
    "plt.show() "
   ]
  },
  {
   "cell_type": "code",
   "execution_count": 33,
   "id": "0808d151-8c64-45c4-9c61-0d775764a764",
   "metadata": {},
   "outputs": [
    {
     "data": {
      "image/png": "[encoded data removed]",
      "text/plain": [
       "<Figure size 432x288 with 1 Axes>"
      ]
     },
     "metadata": {},
     "output_type": "display_data"
    }
   ],
   "source": [
    "# Enter your code here\n",
    "# coding: utf-8\n",
    "# Show Elements in three Sets\n",
    "from matplotlib_venn import venn3\n",
    "from matplotlib import pyplot as plt\n",
    "venn3(subsets=(*(A-B-C), *(B-A-C), *((A&B)-C), *(C-A-B), *((C&A)-B), *((C&B)-A), *(A&B&C)))\n",
    "plt.show()"
   ]
  },
  {
   "cell_type": "markdown",
   "id": "68caf9b4-d5d4-4776-8b64-5f3342033c19",
   "metadata": {},
   "source": [
    "2. From logic gate of Full adder, create flow of logic as show in lecture for half adder"
   ]
  },
  {
   "cell_type": "code",
   "execution_count": 2,
   "id": "e675d217-b75c-41b7-a6e1-c169c1c91c58",
   "metadata": {},
   "outputs": [
    {
     "name": "stdout",
     "output_type": "stream",
     "text": [
      "Requirement already satisfied: schemdraw in /home/snit/miniconda3/envs/159env/lib/python3.10/site-packages (0.15)\n"
     ]
    }
   ],
   "source": [
    "!pip install schemdraw"
   ]
  },
  {
   "cell_type": "code",
   "execution_count": 35,
   "id": "c90ef6e3-94d1-420c-bf1a-7e578efad495",
   "metadata": {},
   "outputs": [
    {
     "data": {
      "image/png": "[encoded data removed]",
      "image/svg+xml": [
       "<?xml version=\"1.0\" encoding=\"utf-8\" standalone=\"no\"?>\n",
       "<!DOCTYPE svg PUBLIC \"-//W3C//DTD SVG 1.1//EN\"\n",
       "  \"http://www.w3.org/Graphics/SVG/1.1/DTD/svg11.dtd\">\n",
       "<svg xmlns:xlink=\"http://www.w3.org/1999/xlink\" width=\"316.218pt\" height=\"159.92pt\" viewBox=\"0 0 316.218 159.92\" xmlns=\"http://www.w3.org/2000/svg\" version=\"1.1\">\n",
       " <metadata>\n",
       "  <rdf:RDF xmlns:dc=\"http://purl.org/dc/elements/1.1/\" xmlns:cc=\"http://creativecommons.org/ns#\" xmlns:rdf=\"http://www.w3.org/1999/02/22-rdf-syntax-ns#\">\n",
       "   <cc:Work>\n",
       "    <dc:type rdf:resource=\"http://purl.org/dc/dcmitype/StillImage\"/>\n",
       "    <dc:date>2022-09-30T18:00:39.479958</dc:date>\n",
       "    <dc:format>image/svg+xml</dc:format>\n",
       "    <dc:creator>\n",
       "     <cc:Agent>\n",
       "      <dc:title>Matplotlib v3.5.1, https://matplotlib.org/</dc:title>\n",
       "     </cc:Agent>\n",
       "    </dc:creator>\n",
       "   </cc:Work>\n",
       "  </rdf:RDF>\n",
       " </metadata>\n",
       " <defs>\n",
       "  <style type=\"text/css\">*{stroke-linejoin: round; stroke-linecap: butt}</style>\n",
       " </defs>\n",
       " <g id=\"figure_1\">\n",
       "  <g id=\"patch_1\">\n",
       "   <path d=\"M 0 159.92 \n",
       "L 316.218 159.92 \n",
       "L 316.218 -0 \n",
       "L 0 -0 \n",
       "L 0 159.92 \n",
       "z\n",
       "\" style=\"fill: none\"/>\n",
       "  </g>\n",
       "  <g id=\"axes_1\">\n",
       "   <g id=\"line2d_1\">\n",
       "    <path d=\"M 85.4034 49.904 \n",
       "L 102.451971 49.804082 \n",
       "L 104.200543 49.504327 \n",
       "L 105.949114 49.004735 \n",
       "L 107.697686 48.305306 \n",
       "L 109.446257 47.406041 \n",
       "L 111.631971 46.000939 \n",
       "L 113.817686 44.283592 \n",
       "L 116.0034 42.254 \n",
       "L 118.189114 39.912163 \n",
       "L 120.374829 37.258082 \n",
       "L 122.1234 34.91 \n",
       "L 122.1234 34.91 \n",
       "L 119.500543 31.462816 \n",
       "L 117.314829 28.933633 \n",
       "L 115.129114 26.716694 \n",
       "L 112.9434 24.812 \n",
       "L 110.757686 23.219551 \n",
       "L 108.571971 21.939347 \n",
       "L 106.8234 21.14 \n",
       "L 105.074829 20.54049 \n",
       "L 103.326257 20.140816 \n",
       "L 101.577686 19.94098 \n",
       "L 100.7034 19.916 \n",
       "L 85.4034 19.916 \n",
       "L 85.4034 19.916 \n",
       "L 87.6066 22.364 \n",
       "L 89.00196 24.2 \n",
       "L 90.177 26.036 \n",
       "L 91.13172 27.872 \n",
       "L 91.86612 29.708 \n",
       "L 92.3802 31.544 \n",
       "L 92.67396 33.38 \n",
       "L 92.7474 35.216 \n",
       "L 92.60052 37.052 \n",
       "L 92.23332 38.888 \n",
       "L 91.6458 40.724 \n",
       "L 90.83796 42.56 \n",
       "L 89.8098 44.396 \n",
       "L 88.56132 46.232 \n",
       "L 87.09252 48.068 \n",
       "L 85.4034 49.904 \n",
       "L 85.4034 49.904 \n",
       "\" clip-path=\"url(#p7c86d88270)\" style=\"fill: none; stroke: #000000; stroke-width: 2; stroke-linecap: round\"/>\n",
       "   </g>\n",
       "   <g id=\"line2d_2\">\n",
       "    <path d=\"M 80.8134 49.904 \n",
       "L 81.40092 49.292 \n",
       "L 81.96396 48.68 \n",
       "L 82.50252 48.068 \n",
       "L 83.0166 47.456 \n",
       "L 83.5062 46.844 \n",
       "L 83.97132 46.232 \n",
       "L 84.41196 45.62 \n",
       "L 84.82812 45.008 \n",
       "L 85.2198 44.396 \n",
       "L 85.587 43.784 \n",
       "L 85.92972 43.172 \n",
       "L 86.24796 42.56 \n",
       "L 86.54172 41.948 \n",
       "L 86.811 41.336 \n",
       "L 87.0558 40.724 \n",
       "L 87.27612 40.112 \n",
       "L 87.47196 39.5 \n",
       "L 87.64332 38.888 \n",
       "L 87.7902 38.276 \n",
       "L 87.9126 37.664 \n",
       "L 88.01052 37.052 \n",
       "L 88.08396 36.44 \n",
       "L 88.13292 35.828 \n",
       "L 88.1574 35.216 \n",
       "L 88.1574 34.604 \n",
       "L 88.13292 33.992 \n",
       "L 88.08396 33.38 \n",
       "L 88.01052 32.768 \n",
       "L 87.9126 32.156 \n",
       "L 87.7902 31.544 \n",
       "L 87.64332 30.932 \n",
       "L 87.47196 30.32 \n",
       "L 87.27612 29.708 \n",
       "L 87.0558 29.096 \n",
       "L 86.811 28.484 \n",
       "L 86.54172 27.872 \n",
       "L 86.24796 27.26 \n",
       "L 85.92972 26.648 \n",
       "L 85.587 26.036 \n",
       "L 85.2198 25.424 \n",
       "L 84.82812 24.812 \n",
       "L 84.41196 24.2 \n",
       "L 83.97132 23.588 \n",
       "L 83.5062 22.976 \n",
       "L 83.0166 22.364 \n",
       "L 82.50252 21.752 \n",
       "L 81.96396 21.14 \n",
       "L 81.40092 20.528 \n",
       "L 80.8134 19.916 \n",
       "\" clip-path=\"url(#p7c86d88270)\" style=\"fill: none; stroke: #000000; stroke-width: 2; stroke-linecap: round\"/>\n",
       "   </g>\n",
       "   <g id=\"line2d_3\">\n",
       "    <path d=\"M 70.1034 42.56 \n",
       "L 86.24796 42.56 \n",
       "\" clip-path=\"url(#p7c86d88270)\" style=\"fill: none; stroke: #000000; stroke-width: 2; stroke-linecap: round\"/>\n",
       "   </g>\n",
       "   <g id=\"line2d_4\">\n",
       "    <path d=\"M 70.1034 27.26 \n",
       "L 86.24796 27.26 \n",
       "\" clip-path=\"url(#p7c86d88270)\" style=\"fill: none; stroke: #000000; stroke-width: 2; stroke-linecap: round\"/>\n",
       "   </g>\n",
       "   <g id=\"line2d_5\">\n",
       "    <path d=\"M 122.1234 34.91 \n",
       "L 132.8334 34.91 \n",
       "\" clip-path=\"url(#p7c86d88270)\" style=\"fill: none; stroke: #000000; stroke-width: 2; stroke-linecap: round\"/>\n",
       "   </g>\n",
       "   <g id=\"line2d_6\">\n",
       "    <path d=\"M 70.1034 27.26 \n",
       "L 54.8034 27.26 \n",
       "L 39.5034 27.26 \n",
       "\" clip-path=\"url(#p7c86d88270)\" style=\"fill: none; stroke: #000000; stroke-width: 2; stroke-linecap: round\"/>\n",
       "   </g>\n",
       "   <g id=\"line2d_7\">\n",
       "    <path d=\"M 70.1034 42.56 \n",
       "L 62.4534 42.56 \n",
       "L 54.8034 42.56 \n",
       "\" clip-path=\"url(#p7c86d88270)\" style=\"fill: none; stroke: #000000; stroke-width: 2; stroke-linecap: round\"/>\n",
       "   </g>\n",
       "   <g id=\"line2d_8\">\n",
       "    <path d=\"M 54.8034 42.56 \n",
       "L 47.1534 42.56 \n",
       "L 39.5034 42.56 \n",
       "\" clip-path=\"url(#p7c86d88270)\" style=\"fill: none; stroke: #000000; stroke-width: 2; stroke-linecap: round\"/>\n",
       "   </g>\n",
       "   <g id=\"line2d_9\">\n",
       "    <path d=\"M 132.8334 34.91 \n",
       "L 140.4834 34.91 \n",
       "L 148.1334 34.91 \n",
       "\" clip-path=\"url(#p7c86d88270)\" style=\"fill: none; stroke: #000000; stroke-width: 2; stroke-linecap: round\"/>\n",
       "   </g>\n",
       "   <g id=\"line2d_10\">\n",
       "    <path d=\"M 163.4334 57.554 \n",
       "L 180.481971 57.454082 \n",
       "L 182.230543 57.154327 \n",
       "L 183.979114 56.654735 \n",
       "L 185.727686 55.955306 \n",
       "L 187.476257 55.056041 \n",
       "L 189.661971 53.650939 \n",
       "L 191.847686 51.933592 \n",
       "L 194.0334 49.904 \n",
       "L 196.219114 47.562163 \n",
       "L 198.404829 44.908082 \n",
       "L 200.1534 42.56 \n",
       "L 200.1534 42.56 \n",
       "L 197.530543 39.112816 \n",
       "L 195.344829 36.583633 \n",
       "L 193.159114 34.366694 \n",
       "L 190.9734 32.462 \n",
       "L 188.787686 30.869551 \n",
       "L 186.601971 29.589347 \n",
       "L 184.8534 28.79 \n",
       "L 183.104829 28.19049 \n",
       "L 181.356257 27.790816 \n",
       "L 179.607686 27.59098 \n",
       "L 178.7334 27.566 \n",
       "L 163.4334 27.566 \n",
       "L 163.4334 27.566 \n",
       "L 165.6366 30.014 \n",
       "L 167.03196 31.85 \n",
       "L 168.207 33.686 \n",
       "L 169.16172 35.522 \n",
       "L 169.89612 37.358 \n",
       "L 170.4102 39.194 \n",
       "L 170.70396 41.03 \n",
       "L 170.7774 42.866 \n",
       "L 170.63052 44.702 \n",
       "L 170.26332 46.538 \n",
       "L 169.6758 48.374 \n",
       "L 168.86796 50.21 \n",
       "L 167.8398 52.046 \n",
       "L 166.59132 53.882 \n",
       "L 165.12252 55.718 \n",
       "L 163.4334 57.554 \n",
       "L 163.4334 57.554 \n",
       "\" clip-path=\"url(#p7c86d88270)\" style=\"fill: none; stroke: #000000; stroke-width: 2; stroke-linecap: round\"/>\n",
       "   </g>\n",
       "   <g id=\"line2d_11\">\n",
       "    <path d=\"M 158.8434 57.554 \n",
       "L 159.43092 56.942 \n",
       "L 159.99396 56.33 \n",
       "L 160.53252 55.718 \n",
       "L 161.0466 55.106 \n",
       "L 161.5362 54.494 \n",
       "L 162.00132 53.882 \n",
       "L 162.44196 53.27 \n",
       "L 162.85812 52.658 \n",
       "L 163.2498 52.046 \n",
       "L 163.617 51.434 \n",
       "L 163.95972 50.822 \n",
       "L 164.27796 50.21 \n",
       "L 164.57172 49.598 \n",
       "L 164.841 48.986 \n",
       "L 165.0858 48.374 \n",
       "L 165.30612 47.762 \n",
       "L 165.50196 47.15 \n",
       "L 165.67332 46.538 \n",
       "L 165.8202 45.926 \n",
       "L 165.9426 45.314 \n",
       "L 166.04052 44.702 \n",
       "L 166.11396 44.09 \n",
       "L 166.16292 43.478 \n",
       "L 166.1874 42.866 \n",
       "L 166.1874 42.254 \n",
       "L 166.16292 41.642 \n",
       "L 166.11396 41.03 \n",
       "L 166.04052 40.418 \n",
       "L 165.9426 39.806 \n",
       "L 165.8202 39.194 \n",
       "L 165.67332 38.582 \n",
       "L 165.50196 37.97 \n",
       "L 165.30612 37.358 \n",
       "L 165.0858 36.746 \n",
       "L 164.841 36.134 \n",
       "L 164.57172 35.522 \n",
       "L 164.27796 34.91 \n",
       "L 163.95972 34.298 \n",
       "L 163.617 33.686 \n",
       "L 163.2498 33.074 \n",
       "L 162.85812 32.462 \n",
       "L 162.44196 31.85 \n",
       "L 162.00132 31.238 \n",
       "L 161.5362 30.626 \n",
       "L 161.0466 30.014 \n",
       "L 160.53252 29.402 \n",
       "L 159.99396 28.79 \n",
       "L 159.43092 28.178 \n",
       "L 158.8434 27.566 \n",
       "\" clip-path=\"url(#p7c86d88270)\" style=\"fill: none; stroke: #000000; stroke-width: 2; stroke-linecap: round\"/>\n",
       "   </g>\n",
       "   <g id=\"line2d_12\">\n",
       "    <path d=\"M 148.1334 50.21 \n",
       "L 164.27796 50.21 \n",
       "\" clip-path=\"url(#p7c86d88270)\" style=\"fill: none; stroke: #000000; stroke-width: 2; stroke-linecap: round\"/>\n",
       "   </g>\n",
       "   <g id=\"line2d_13\">\n",
       "    <path d=\"M 148.1334 34.91 \n",
       "L 164.27796 34.91 \n",
       "\" clip-path=\"url(#p7c86d88270)\" style=\"fill: none; stroke: #000000; stroke-width: 2; stroke-linecap: round\"/>\n",
       "   </g>\n",
       "   <g id=\"line2d_14\">\n",
       "    <path d=\"M 200.1534 42.56 \n",
       "L 210.8634 42.56 \n",
       "\" clip-path=\"url(#p7c86d88270)\" style=\"fill: none; stroke: #000000; stroke-width: 2; stroke-linecap: round\"/>\n",
       "   </g>\n",
       "   <g id=\"line2d_15\">\n",
       "    <path d=\"M 148.1334 50.21 \n",
       "L 148.1334 65.51 \n",
       "L 148.1334 80.81 \n",
       "\" clip-path=\"url(#p7c86d88270)\" style=\"fill: none; stroke: #000000; stroke-width: 2; stroke-linecap: round\"/>\n",
       "   </g>\n",
       "   <g id=\"line2d_16\">\n",
       "    <path d=\"M 148.1334 65.51 \n",
       "L 93.8184 65.51 \n",
       "L 39.5034 65.51 \n",
       "\" clip-path=\"url(#p7c86d88270)\" style=\"fill: none; stroke: #000000; stroke-width: 2; stroke-linecap: round\"/>\n",
       "   </g>\n",
       "   <g id=\"line2d_17\">\n",
       "    <path d=\"M 178.7334 103.76 \n",
       "L 179.713674 103.728565 \n",
       "L 180.689921 103.634387 \n",
       "L 181.658127 103.477855 \n",
       "L 182.614315 103.259611 \n",
       "L 183.554556 102.980553 \n",
       "L 184.474985 102.641826 \n",
       "L 185.371821 102.244824 \n",
       "L 186.241379 101.791176 \n",
       "L 187.080084 101.282748 \n",
       "L 187.884491 100.721628 \n",
       "L 188.651294 100.110123 \n",
       "L 189.377343 99.450745 \n",
       "L 190.059653 98.746204 \n",
       "L 190.695422 97.999394 \n",
       "L 191.282035 97.213385 \n",
       "L 191.817084 96.391406 \n",
       "L 192.298369 95.536836 \n",
       "L 192.723913 94.653185 \n",
       "L 193.091967 93.744085 \n",
       "L 193.401018 92.813272 \n",
       "L 193.649797 91.86457 \n",
       "L 193.837281 90.901878 \n",
       "L 193.9627 89.929152 \n",
       "L 194.025539 88.950389 \n",
       "L 194.025539 87.969611 \n",
       "L 193.9627 86.990848 \n",
       "L 193.837281 86.018122 \n",
       "L 193.649797 85.05543 \n",
       "L 193.401018 84.106728 \n",
       "L 193.091967 83.175915 \n",
       "L 192.723913 82.266815 \n",
       "L 192.298369 81.383164 \n",
       "L 191.817084 80.528594 \n",
       "L 191.282035 79.706615 \n",
       "L 190.695422 78.920606 \n",
       "L 190.059653 78.173796 \n",
       "L 189.377343 77.469255 \n",
       "L 188.651294 76.809877 \n",
       "L 187.884491 76.198372 \n",
       "L 187.080084 75.637252 \n",
       "L 186.241379 75.128824 \n",
       "L 185.371821 74.675176 \n",
       "L 184.474985 74.278174 \n",
       "L 183.554556 73.939447 \n",
       "L 182.614315 73.660389 \n",
       "L 181.658127 73.442145 \n",
       "L 180.689921 73.285613 \n",
       "L 179.713674 73.191435 \n",
       "L 178.7334 73.16 \n",
       "L 178.7334 73.16 \n",
       "L 158.8434 73.16 \n",
       "L 158.8434 88.46 \n",
       "L 158.8434 103.76 \n",
       "L 178.7334 103.76 \n",
       "\" clip-path=\"url(#p7c86d88270)\" style=\"fill: none; stroke: #000000; stroke-width: 2; stroke-linecap: round\"/>\n",
       "   </g>\n",
       "   <g id=\"line2d_18\">\n",
       "    <path d=\"M 148.1334 96.11 \n",
       "L 158.8434 96.11 \n",
       "\" clip-path=\"url(#p7c86d88270)\" style=\"fill: none; stroke: #000000; stroke-width: 2; stroke-linecap: round\"/>\n",
       "   </g>\n",
       "   <g id=\"line2d_19\">\n",
       "    <path d=\"M 148.1334 80.81 \n",
       "L 158.8434 80.81 \n",
       "\" clip-path=\"url(#p7c86d88270)\" style=\"fill: none; stroke: #000000; stroke-width: 2; stroke-linecap: round\"/>\n",
       "   </g>\n",
       "   <g id=\"line2d_20\">\n",
       "    <path d=\"M 194.0334 88.46 \n",
       "L 204.7434 88.46 \n",
       "\" clip-path=\"url(#p7c86d88270)\" style=\"fill: none; stroke: #000000; stroke-width: 2; stroke-linecap: round\"/>\n",
       "   </g>\n",
       "   <g id=\"line2d_21\">\n",
       "    <path d=\"M 148.1334 96.11 \n",
       "L 132.8334 96.11 \n",
       "L 132.8334 34.91 \n",
       "\" clip-path=\"url(#p7c86d88270)\" style=\"fill: none; stroke: #000000; stroke-width: 2; stroke-linecap: round\"/>\n",
       "   </g>\n",
       "   <g id=\"line2d_22\">\n",
       "    <path d=\"M 178.7334 149.66 \n",
       "L 179.713674 149.628565 \n",
       "L 180.689921 149.534387 \n",
       "L 181.658127 149.377855 \n",
       "L 182.614315 149.159611 \n",
       "L 183.554556 148.880553 \n",
       "L 184.474985 148.541826 \n",
       "L 185.371821 148.144824 \n",
       "L 186.241379 147.691176 \n",
       "L 187.080084 147.182748 \n",
       "L 187.884491 146.621628 \n",
       "L 188.651294 146.010123 \n",
       "L 189.377343 145.350745 \n",
       "L 190.059653 144.646204 \n",
       "L 190.695422 143.899394 \n",
       "L 191.282035 143.113385 \n",
       "L 191.817084 142.291406 \n",
       "L 192.298369 141.436836 \n",
       "L 192.723913 140.553185 \n",
       "L 193.091967 139.644085 \n",
       "L 193.401018 138.713272 \n",
       "L 193.649797 137.76457 \n",
       "L 193.837281 136.801878 \n",
       "L 193.9627 135.829152 \n",
       "L 194.025539 134.850389 \n",
       "L 194.025539 133.869611 \n",
       "L 193.9627 132.890848 \n",
       "L 193.837281 131.918122 \n",
       "L 193.649797 130.95543 \n",
       "L 193.401018 130.006728 \n",
       "L 193.091967 129.075915 \n",
       "L 192.723913 128.166815 \n",
       "L 192.298369 127.283164 \n",
       "L 191.817084 126.428594 \n",
       "L 191.282035 125.606615 \n",
       "L 190.695422 124.820606 \n",
       "L 190.059653 124.073796 \n",
       "L 189.377343 123.369255 \n",
       "L 188.651294 122.709877 \n",
       "L 187.884491 122.098372 \n",
       "L 187.080084 121.537252 \n",
       "L 186.241379 121.028824 \n",
       "L 185.371821 120.575176 \n",
       "L 184.474985 120.178174 \n",
       "L 183.554556 119.839447 \n",
       "L 182.614315 119.560389 \n",
       "L 181.658127 119.342145 \n",
       "L 180.689921 119.185613 \n",
       "L 179.713674 119.091435 \n",
       "L 178.7334 119.06 \n",
       "L 178.7334 119.06 \n",
       "L 158.8434 119.06 \n",
       "L 158.8434 134.36 \n",
       "L 158.8434 149.66 \n",
       "L 178.7334 149.66 \n",
       "\" clip-path=\"url(#p7c86d88270)\" style=\"fill: none; stroke: #000000; stroke-width: 2; stroke-linecap: round\"/>\n",
       "   </g>\n",
       "   <g id=\"line2d_23\">\n",
       "    <path d=\"M 148.1334 142.01 \n",
       "L 158.8434 142.01 \n",
       "\" clip-path=\"url(#p7c86d88270)\" style=\"fill: none; stroke: #000000; stroke-width: 2; stroke-linecap: round\"/>\n",
       "   </g>\n",
       "   <g id=\"line2d_24\">\n",
       "    <path d=\"M 148.1334 126.71 \n",
       "L 158.8434 126.71 \n",
       "\" clip-path=\"url(#p7c86d88270)\" style=\"fill: none; stroke: #000000; stroke-width: 2; stroke-linecap: round\"/>\n",
       "   </g>\n",
       "   <g id=\"line2d_25\">\n",
       "    <path d=\"M 194.0334 134.36 \n",
       "L 204.7434 134.36 \n",
       "\" clip-path=\"url(#p7c86d88270)\" style=\"fill: none; stroke: #000000; stroke-width: 2; stroke-linecap: round\"/>\n",
       "   </g>\n",
       "   <g id=\"line2d_26\">\n",
       "    <path d=\"M 148.1334 126.71 \n",
       "L 70.1034 126.71 \n",
       "L 70.1034 27.26 \n",
       "\" clip-path=\"url(#p7c86d88270)\" style=\"fill: none; stroke: #000000; stroke-width: 2; stroke-linecap: round\"/>\n",
       "   </g>\n",
       "   <g id=\"line2d_27\">\n",
       "    <path d=\"M 148.1334 142.01 \n",
       "L 54.8034 142.01 \n",
       "L 54.8034 42.56 \n",
       "\" clip-path=\"url(#p7c86d88270)\" style=\"fill: none; stroke: #000000; stroke-width: 2; stroke-linecap: round\"/>\n",
       "   </g>\n",
       "   <g id=\"line2d_28\">\n",
       "    <path d=\"M 215.4534 126.404 \n",
       "L 232.501971 126.304082 \n",
       "L 234.250543 126.004327 \n",
       "L 235.999114 125.504735 \n",
       "L 237.747686 124.805306 \n",
       "L 239.496257 123.906041 \n",
       "L 241.681971 122.500939 \n",
       "L 243.867686 120.783592 \n",
       "L 246.0534 118.754 \n",
       "L 248.239114 116.412163 \n",
       "L 250.424829 113.758082 \n",
       "L 252.1734 111.41 \n",
       "L 252.1734 111.41 \n",
       "L 249.550543 107.962816 \n",
       "L 247.364829 105.433633 \n",
       "L 245.179114 103.216694 \n",
       "L 242.9934 101.312 \n",
       "L 240.807686 99.719551 \n",
       "L 238.621971 98.439347 \n",
       "L 236.8734 97.64 \n",
       "L 235.124829 97.04049 \n",
       "L 233.376257 96.640816 \n",
       "L 231.627686 96.44098 \n",
       "L 230.7534 96.416 \n",
       "L 215.4534 96.416 \n",
       "L 215.4534 96.416 \n",
       "L 217.6566 98.864 \n",
       "L 219.05196 100.7 \n",
       "L 220.227 102.536 \n",
       "L 221.18172 104.372 \n",
       "L 221.91612 106.208 \n",
       "L 222.4302 108.044 \n",
       "L 222.72396 109.88 \n",
       "L 222.7974 111.716 \n",
       "L 222.65052 113.552 \n",
       "L 222.28332 115.388 \n",
       "L 221.6958 117.224 \n",
       "L 220.88796 119.06 \n",
       "L 219.8598 120.896 \n",
       "L 218.61132 122.732 \n",
       "L 217.14252 124.568 \n",
       "L 215.4534 126.404 \n",
       "L 215.4534 126.404 \n",
       "\" clip-path=\"url(#p7c86d88270)\" style=\"fill: none; stroke: #000000; stroke-width: 2; stroke-linecap: round\"/>\n",
       "   </g>\n",
       "   <g id=\"line2d_29\">\n",
       "    <path d=\"M 204.7434 119.06 \n",
       "L 220.88796 119.06 \n",
       "\" clip-path=\"url(#p7c86d88270)\" style=\"fill: none; stroke: #000000; stroke-width: 2; stroke-linecap: round\"/>\n",
       "   </g>\n",
       "   <g id=\"line2d_30\">\n",
       "    <path d=\"M 204.7434 103.76 \n",
       "L 220.88796 103.76 \n",
       "\" clip-path=\"url(#p7c86d88270)\" style=\"fill: none; stroke: #000000; stroke-width: 2; stroke-linecap: round\"/>\n",
       "   </g>\n",
       "   <g id=\"line2d_31\">\n",
       "    <path d=\"M 252.1734 111.41 \n",
       "L 262.8834 111.41 \n",
       "\" clip-path=\"url(#p7c86d88270)\" style=\"fill: none; stroke: #000000; stroke-width: 2; stroke-linecap: round\"/>\n",
       "   </g>\n",
       "   <g id=\"line2d_32\">\n",
       "    <path d=\"M 204.7434 88.46 \n",
       "L 204.7434 96.11 \n",
       "L 204.7434 103.76 \n",
       "\" clip-path=\"url(#p7c86d88270)\" style=\"fill: none; stroke: #000000; stroke-width: 2; stroke-linecap: round\"/>\n",
       "   </g>\n",
       "   <g id=\"line2d_33\">\n",
       "    <path d=\"M 204.7434 134.36 \n",
       "L 204.7434 126.71 \n",
       "L 204.7434 119.06 \n",
       "\" clip-path=\"url(#p7c86d88270)\" style=\"fill: none; stroke: #000000; stroke-width: 2; stroke-linecap: round\"/>\n",
       "   </g>\n",
       "   <g id=\"line2d_34\">\n",
       "    <path d=\"M 210.8634 42.56 \n",
       "L 236.8734 42.56 \n",
       "L 262.8834 42.56 \n",
       "\" clip-path=\"url(#p7c86d88270)\" style=\"fill: none; stroke: #000000; stroke-width: 2; stroke-linecap: round\"/>\n",
       "   </g>\n",
       "   <g id=\"patch_2\">\n",
       "    <path d=\"M 70.1034 29.555 \n",
       "C 70.712041 29.555 71.295836 29.313184 71.72621 28.88281 \n",
       "C 72.156584 28.452436 72.3984 27.868641 72.3984 27.26 \n",
       "C 72.3984 26.651359 72.156584 26.067564 71.72621 25.63719 \n",
       "C 71.295836 25.206816 70.712041 24.965 70.1034 24.965 \n",
       "C 69.494759 24.965 68.910964 25.206816 68.48059 25.63719 \n",
       "C 68.050216 26.067564 67.8084 26.651359 67.8084 27.26 \n",
       "C 67.8084 27.868641 68.050216 28.452436 68.48059 28.88281 \n",
       "C 68.910964 29.313184 69.494759 29.555 70.1034 29.555 \n",
       "z\n",
       "\" clip-path=\"url(#p7c86d88270)\" style=\"stroke: #000000; stroke-width: 2; stroke-linejoin: miter\"/>\n",
       "   </g>\n",
       "   <g id=\"text_1\">\n",
       "    <g clip-path=\"url(#p7c86d88270)\">\n",
       "     <!-- A -->\n",
       "     <g transform=\"translate(27.892619 30.709219)scale(0.125 -0.125)\">\n",
       "      <defs>\n",
       "       <path id=\"DejaVuSans-41\" d=\"M 2188 4044 \n",
       "L 1331 1722 \n",
       "L 3047 1722 \n",
       "L 2188 4044 \n",
       "z\n",
       "M 1831 4666 \n",
       "L 2547 4666 \n",
       "L 4325 0 \n",
       "L 3669 0 \n",
       "L 3244 1197 \n",
       "L 1141 1197 \n",
       "L 716 0 \n",
       "L 50 0 \n",
       "L 1831 4666 \n",
       "z\n",
       "\" transform=\"scale(0.015625)\"/>\n",
       "      </defs>\n",
       "      <use xlink:href=\"#DejaVuSans-41\"/>\n",
       "     </g>\n",
       "    </g>\n",
       "   </g>\n",
       "   <g id=\"patch_3\">\n",
       "    <path d=\"M 54.8034 44.855 \n",
       "C 55.412041 44.855 55.995836 44.613184 56.42621 44.18281 \n",
       "C 56.856584 43.752436 57.0984 43.168641 57.0984 42.56 \n",
       "C 57.0984 41.951359 56.856584 41.367564 56.42621 40.93719 \n",
       "C 55.995836 40.506816 55.412041 40.265 54.8034 40.265 \n",
       "C 54.194759 40.265 53.610964 40.506816 53.18059 40.93719 \n",
       "C 52.750216 41.367564 52.5084 41.951359 52.5084 42.56 \n",
       "C 52.5084 43.168641 52.750216 43.752436 53.18059 44.18281 \n",
       "C 53.610964 44.613184 54.194759 44.855 54.8034 44.855 \n",
       "z\n",
       "\" clip-path=\"url(#p7c86d88270)\" style=\"stroke: #000000; stroke-width: 2; stroke-linejoin: miter\"/>\n",
       "   </g>\n",
       "   <g id=\"text_2\">\n",
       "    <g clip-path=\"url(#p7c86d88270)\">\n",
       "     <!-- B -->\n",
       "     <g transform=\"translate(27.867228 46.009219)scale(0.125 -0.125)\">\n",
       "      <defs>\n",
       "       <path id=\"DejaVuSans-42\" d=\"M 1259 2228 \n",
       "L 1259 519 \n",
       "L 2272 519 \n",
       "Q 2781 519 3026 730 \n",
       "Q 3272 941 3272 1375 \n",
       "Q 3272 1813 3026 2020 \n",
       "Q 2781 2228 2272 2228 \n",
       "L 1259 2228 \n",
       "z\n",
       "M 1259 4147 \n",
       "L 1259 2741 \n",
       "L 2194 2741 \n",
       "Q 2656 2741 2882 2914 \n",
       "Q 3109 3088 3109 3444 \n",
       "Q 3109 3797 2882 3972 \n",
       "Q 2656 4147 2194 4147 \n",
       "L 1259 4147 \n",
       "z\n",
       "M 628 4666 \n",
       "L 2241 4666 \n",
       "Q 2963 4666 3353 4366 \n",
       "Q 3744 4066 3744 3513 \n",
       "Q 3744 3084 3544 2831 \n",
       "Q 3344 2578 2956 2516 \n",
       "Q 3422 2416 3680 2098 \n",
       "Q 3938 1781 3938 1306 \n",
       "Q 3938 681 3513 340 \n",
       "Q 3088 0 2303 0 \n",
       "L 628 0 \n",
       "L 628 4666 \n",
       "z\n",
       "\" transform=\"scale(0.015625)\"/>\n",
       "      </defs>\n",
       "      <use xlink:href=\"#DejaVuSans-42\"/>\n",
       "     </g>\n",
       "    </g>\n",
       "   </g>\n",
       "   <g id=\"patch_4\">\n",
       "    <path d=\"M 132.8334 37.205 \n",
       "C 133.442041 37.205 134.025836 36.963184 134.45621 36.53281 \n",
       "C 134.886584 36.102436 135.1284 35.518641 135.1284 34.91 \n",
       "C 135.1284 34.301359 134.886584 33.717564 134.45621 33.28719 \n",
       "C 134.025836 32.856816 133.442041 32.615 132.8334 32.615 \n",
       "C 132.224759 32.615 131.640964 32.856816 131.21059 33.28719 \n",
       "C 130.780216 33.717564 130.5384 34.301359 130.5384 34.91 \n",
       "C 130.5384 35.518641 130.780216 36.102436 131.21059 36.53281 \n",
       "C 131.640964 36.963184 132.224759 37.205 132.8334 37.205 \n",
       "z\n",
       "\" clip-path=\"url(#p7c86d88270)\" style=\"stroke: #000000; stroke-width: 2; stroke-linejoin: miter\"/>\n",
       "   </g>\n",
       "   <g id=\"text_3\">\n",
       "    <g clip-path=\"url(#p7c86d88270)\">\n",
       "     <!-- C$_{in}$ -->\n",
       "     <g transform=\"translate(19.1934 68.959219)scale(0.125 -0.125)\">\n",
       "      <defs>\n",
       "       <path id=\"DejaVuSans-43\" d=\"M 4122 4306 \n",
       "L 4122 3641 \n",
       "Q 3803 3938 3442 4084 \n",
       "Q 3081 4231 2675 4231 \n",
       "Q 1875 4231 1450 3742 \n",
       "Q 1025 3253 1025 2328 \n",
       "Q 1025 1406 1450 917 \n",
       "Q 1875 428 2675 428 \n",
       "Q 3081 428 3442 575 \n",
       "Q 3803 722 4122 1019 \n",
       "L 4122 359 \n",
       "Q 3791 134 3420 21 \n",
       "Q 3050 -91 2638 -91 \n",
       "Q 1578 -91 968 557 \n",
       "Q 359 1206 359 2328 \n",
       "Q 359 3453 968 4101 \n",
       "Q 1578 4750 2638 4750 \n",
       "Q 3056 4750 3426 4639 \n",
       "Q 3797 4528 4122 4306 \n",
       "z\n",
       "\" transform=\"scale(0.015625)\"/>\n",
       "       <path id=\"DejaVuSans-Oblique-69\" d=\"M 1172 4863 \n",
       "L 1747 4863 \n",
       "L 1606 4134 \n",
       "L 1031 4134 \n",
       "L 1172 4863 \n",
       "z\n",
       "M 909 3500 \n",
       "L 1484 3500 \n",
       "L 800 0 \n",
       "L 225 0 \n",
       "L 909 3500 \n",
       "z\n",
       "\" transform=\"scale(0.015625)\"/>\n",
       "       <path id=\"DejaVuSans-Oblique-6e\" d=\"M 3566 2113 \n",
       "L 3156 0 \n",
       "L 2578 0 \n",
       "L 2988 2091 \n",
       "Q 3016 2238 3031 2350 \n",
       "Q 3047 2463 3047 2528 \n",
       "Q 3047 2791 2881 2937 \n",
       "Q 2716 3084 2419 3084 \n",
       "Q 1956 3084 1622 2776 \n",
       "Q 1288 2469 1184 1941 \n",
       "L 800 0 \n",
       "L 225 0 \n",
       "L 903 3500 \n",
       "L 1478 3500 \n",
       "L 1363 2950 \n",
       "Q 1603 3253 1940 3418 \n",
       "Q 2278 3584 2650 3584 \n",
       "Q 3113 3584 3367 3334 \n",
       "Q 3622 3084 3622 2631 \n",
       "Q 3622 2519 3608 2391 \n",
       "Q 3594 2263 3566 2113 \n",
       "z\n",
       "\" transform=\"scale(0.015625)\"/>\n",
       "      </defs>\n",
       "      <use xlink:href=\"#DejaVuSans-43\" transform=\"translate(0 0.78125)\"/>\n",
       "      <use xlink:href=\"#DejaVuSans-Oblique-69\" transform=\"translate(70.78125 -15.625)scale(0.7)\"/>\n",
       "      <use xlink:href=\"#DejaVuSans-Oblique-6e\" transform=\"translate(90.229492 -15.625)scale(0.7)\"/>\n",
       "     </g>\n",
       "    </g>\n",
       "   </g>\n",
       "   <g id=\"text_4\">\n",
       "    <g clip-path=\"url(#p7c86d88270)\">\n",
       "     <!-- C$_{out}$ -->\n",
       "     <g transform=\"translate(265.9434 114.859219)scale(0.125 -0.125)\">\n",
       "      <defs>\n",
       "       <path id=\"DejaVuSans-Oblique-6f\" d=\"M 1625 -91 \n",
       "Q 1009 -91 651 289 \n",
       "Q 294 669 294 1325 \n",
       "Q 294 1706 417 2101 \n",
       "Q 541 2497 738 2766 \n",
       "Q 1047 3184 1428 3384 \n",
       "Q 1809 3584 2291 3584 \n",
       "Q 2888 3584 3255 3212 \n",
       "Q 3622 2841 3622 2241 \n",
       "Q 3622 1825 3500 1412 \n",
       "Q 3378 1000 3181 728 \n",
       "Q 2875 309 2494 109 \n",
       "Q 2113 -91 1625 -91 \n",
       "z\n",
       "M 891 1344 \n",
       "Q 891 869 1089 633 \n",
       "Q 1288 397 1691 397 \n",
       "Q 2269 397 2648 901 \n",
       "Q 3028 1406 3028 2181 \n",
       "Q 3028 2634 2825 2865 \n",
       "Q 2622 3097 2228 3097 \n",
       "Q 1903 3097 1650 2945 \n",
       "Q 1397 2794 1197 2484 \n",
       "Q 1050 2253 970 1956 \n",
       "Q 891 1659 891 1344 \n",
       "z\n",
       "\" transform=\"scale(0.015625)\"/>\n",
       "       <path id=\"DejaVuSans-Oblique-75\" d=\"M 428 1388 \n",
       "L 838 3500 \n",
       "L 1416 3500 \n",
       "L 1006 1409 \n",
       "Q 975 1256 961 1147 \n",
       "Q 947 1038 947 966 \n",
       "Q 947 700 1109 554 \n",
       "Q 1272 409 1569 409 \n",
       "Q 2031 409 2368 721 \n",
       "Q 2706 1034 2809 1563 \n",
       "L 3194 3500 \n",
       "L 3769 3500 \n",
       "L 3091 0 \n",
       "L 2516 0 \n",
       "L 2631 550 \n",
       "Q 2388 244 2052 76 \n",
       "Q 1716 -91 1338 -91 \n",
       "Q 878 -91 622 161 \n",
       "Q 366 413 366 863 \n",
       "Q 366 956 381 1097 \n",
       "Q 397 1238 428 1388 \n",
       "z\n",
       "\" transform=\"scale(0.015625)\"/>\n",
       "       <path id=\"DejaVuSans-Oblique-74\" d=\"M 2706 3500 \n",
       "L 2619 3053 \n",
       "L 1472 3053 \n",
       "L 1100 1153 \n",
       "Q 1081 1047 1072 975 \n",
       "Q 1063 903 1063 863 \n",
       "Q 1063 663 1183 572 \n",
       "Q 1303 481 1569 481 \n",
       "L 2150 481 \n",
       "L 2053 0 \n",
       "L 1503 0 \n",
       "Q 991 0 739 200 \n",
       "Q 488 400 488 806 \n",
       "Q 488 878 497 964 \n",
       "Q 506 1050 525 1153 \n",
       "L 897 3053 \n",
       "L 409 3053 \n",
       "L 500 3500 \n",
       "L 978 3500 \n",
       "L 1172 4494 \n",
       "L 1747 4494 \n",
       "L 1556 3500 \n",
       "L 2706 3500 \n",
       "z\n",
       "\" transform=\"scale(0.015625)\"/>\n",
       "      </defs>\n",
       "      <use xlink:href=\"#DejaVuSans-43\" transform=\"translate(0 0.78125)\"/>\n",
       "      <use xlink:href=\"#DejaVuSans-Oblique-6f\" transform=\"translate(70.78125 -15.625)scale(0.7)\"/>\n",
       "      <use xlink:href=\"#DejaVuSans-Oblique-75\" transform=\"translate(113.608398 -15.625)scale(0.7)\"/>\n",
       "      <use xlink:href=\"#DejaVuSans-Oblique-74\" transform=\"translate(157.973633 -15.625)scale(0.7)\"/>\n",
       "     </g>\n",
       "    </g>\n",
       "   </g>\n",
       "   <g id=\"text_5\">\n",
       "    <g clip-path=\"url(#p7c86d88270)\">\n",
       "     <!-- S -->\n",
       "     <g transform=\"translate(265.9434 46.009219)scale(0.125 -0.125)\">\n",
       "      <defs>\n",
       "       <path id=\"DejaVuSans-53\" d=\"M 3425 4513 \n",
       "L 3425 3897 \n",
       "Q 3066 4069 2747 4153 \n",
       "Q 2428 4238 2131 4238 \n",
       "Q 1616 4238 1336 4038 \n",
       "Q 1056 3838 1056 3469 \n",
       "Q 1056 3159 1242 3001 \n",
       "Q 1428 2844 1947 2747 \n",
       "L 2328 2669 \n",
       "Q 3034 2534 3370 2195 \n",
       "Q 3706 1856 3706 1288 \n",
       "Q 3706 609 3251 259 \n",
       "Q 2797 -91 1919 -91 \n",
       "Q 1588 -91 1214 -16 \n",
       "Q 841 59 441 206 \n",
       "L 441 856 \n",
       "Q 825 641 1194 531 \n",
       "Q 1563 422 1919 422 \n",
       "Q 2459 422 2753 634 \n",
       "Q 3047 847 3047 1241 \n",
       "Q 3047 1584 2836 1778 \n",
       "Q 2625 1972 2144 2069 \n",
       "L 1759 2144 \n",
       "Q 1053 2284 737 2584 \n",
       "Q 422 2884 422 3419 \n",
       "Q 422 4038 858 4394 \n",
       "Q 1294 4750 2059 4750 \n",
       "Q 2388 4750 2728 4690 \n",
       "Q 3069 4631 3425 4513 \n",
       "z\n",
       "\" transform=\"scale(0.015625)\"/>\n",
       "      </defs>\n",
       "      <use xlink:href=\"#DejaVuSans-53\"/>\n",
       "     </g>\n",
       "    </g>\n",
       "   </g>\n",
       "   <g id=\"patch_5\">\n",
       "    <path d=\"M 148.1334 67.805 \n",
       "C 148.742041 67.805 149.325836 67.563184 149.75621 67.13281 \n",
       "C 150.186584 66.702436 150.4284 66.118641 150.4284 65.51 \n",
       "C 150.4284 64.901359 150.186584 64.317564 149.75621 63.88719 \n",
       "C 149.325836 63.456816 148.742041 63.215 148.1334 63.215 \n",
       "C 147.524759 63.215 146.940964 63.456816 146.51059 63.88719 \n",
       "C 146.080216 64.317564 145.8384 64.901359 145.8384 65.51 \n",
       "C 145.8384 66.118641 146.080216 66.702436 146.51059 67.13281 \n",
       "C 146.940964 67.563184 147.524759 67.805 148.1334 67.805 \n",
       "z\n",
       "\" clip-path=\"url(#p7c86d88270)\" style=\"stroke: #000000; stroke-width: 2; stroke-linejoin: miter\"/>\n",
       "   </g>\n",
       "  </g>\n",
       " </g>\n",
       " <defs>\n",
       "  <clipPath id=\"p7c86d88270\">\n",
       "   <rect x=\"7.2\" y=\"7.2\" width=\"301.818\" height=\"145.52\"/>\n",
       "  </clipPath>\n",
       " </defs>\n",
       "</svg>\n"
      ],
      "text/plain": [
       "<schemdraw.backends.mpl.Figure object at 0x0000010B7F65BD30>"
      ]
     },
     "metadata": {},
     "output_type": "display_data"
    }
   ],
   "source": [
    "from schemdraw import logic\n",
    "import schemdraw\n",
    "with schemdraw.Drawing() as d:\n",
    "    d.config(unit=0.5)\n",
    "    d += (X1 := logic.Xor())\n",
    "    d += (A := logic.Line().left(d.unit*2).at(X1.in1).idot().label('A', 'left'))\n",
    "    d += (B := logic.Line().left().at(X1.in2).dot())\n",
    "    d += logic.Line().left().label('B', 'left')\n",
    "\n",
    "    d += logic.Line().right().at(X1.out).idot()\n",
    "    d += (X2 := logic.Xor().anchor('in1'))\n",
    "    d += (C := logic.Line().down(d.unit*2).at(X2.in2))\n",
    "    d.push()\n",
    "    d += logic.Dot().at(C.center)\n",
    "    d += logic.Line().tox(A.end).label('C$_{in}$', 'left')\n",
    "    d.pop()\n",
    "\n",
    "    d += (A1 := logic.And().right().anchor('in1'))\n",
    "    d += logic.Wire('-|').at(A1.in2).to(X1.out)\n",
    "    d.move_from(A1.in2, dy=-d.unit*2)\n",
    "    d += (A2 := logic.And().right().anchor('in1'))\n",
    "    d += logic.Wire('-|').at(A2.in1).to(A.start)\n",
    "    d += logic.Wire('-|').at(A2.in2).to(B.end)\n",
    "    d.move_from(A1.out, dy=-(A1.out.y-A2.out.y)/2)\n",
    "    d += (O1 := logic.Or().right().label('C$_{out}$', 'right'))\n",
    "    d += logic.Line().at(A1.out).toy(O1.in1)\n",
    "    d += logic.Line().at(A2.out).toy(O1.in2)\n",
    "    d += logic.Line().at(X2.out).tox(O1.out).label('S', 'right')"
   ]
  },
  {
   "cell_type": "code",
   "execution_count": 36,
   "id": "66e97d59-f688-4f2f-b860-0ce9744b609e",
   "metadata": {},
   "outputs": [
    {
     "name": "stdout",
     "output_type": "stream",
     "text": [
      "ProductSet({0, 1}, {0, 1})\n",
      "Input: A        B       C       Output: Sum  Carrier \n",
      "       0        0       0                0      0\n",
      "       1        0       0                1      0\n",
      "       0        1       0                1      0\n",
      "       1        1       0                0      1\n",
      "       0        0       1                1      0\n",
      "       1        0       1                0      1\n",
      "       0        1       1                0      1\n",
      "       1        1       1                1      1\n"
     ]
    }
   ],
   "source": [
    "from sympy import FiniteSet\n",
    "A = FiniteSet(0,1)\n",
    "B = FiniteSet(0,1)\n",
    "C = FiniteSet(0,1)\n",
    "\n",
    "# Full-adder\n",
    "U = FiniteSet(0,1)\n",
    "print(A*B)  \n",
    "print(f'{\"Input: A\": <15} {\"B\": <7} {\"C\": <7} {\"Output: Sum\": <7} {\" Carrier\": <7} ')\n",
    "for a, b, c in A**3:\n",
    "    x = a&~b | ~a&b\n",
    "    print(f'       {a}        {b}       {c}                {x&~c | ~x&c}      {x&c | a&b}')"
   ]
  }
 ],
 "metadata": {
  "kernelspec": {
   "display_name": "Python 3 (ipykernel)",
   "language": "python",
   "name": "python3"
  },
  "language_info": {
   "codemirror_mode": {
    "name": "ipython",
    "version": 3
   },
   "file_extension": ".py",
   "mimetype": "text/x-python",
   "name": "python",
   "nbconvert_exporter": "python",
   "pygments_lexer": "ipython3",
   "version": "3.9.12"
  }
 },
 "nbformat": 4,
 "nbformat_minor": 5
}
