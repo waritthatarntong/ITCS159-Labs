{
 "cells": [
  {
   "cell_type": "code",
   "execution_count": 1,
   "metadata": {},
   "outputs": [],
   "source": [
    "import thinkstats2\n",
    "import thinkplot\n",
    "import numpy as np\n",
    "import nsfg"
   ]
  },
  {
   "cell_type": "code",
   "execution_count": 2,
   "metadata": {},
   "outputs": [],
   "source": [
    "from os.path import basename, exists\n",
    "\n",
    "\n",
    "def download(url):\n",
    "    filename = basename(url)\n",
    "    if not exists(filename):\n",
    "        from urllib.request import urlretrieve\n",
    "\n",
    "        local, _ = urlretrieve(url, filename)\n",
    "        print(\"Downloaded \" + local)\n",
    "\n",
    "\n",
    "download(\"https://github.com/AllenDowney/ThinkStats2/raw/master/code/thinkstats2.py\")\n",
    "download(\"https://github.com/AllenDowney/ThinkStats2/raw/master/code/thinkplot.py\")"
   ]
  },
  {
   "cell_type": "markdown",
   "metadata": {},
   "source": [
    "Given a list of values, there are several ways to count the frequency of each value."
   ]
  },
  {
   "cell_type": "markdown",
   "metadata": {
    "collapsed": true
   },
   "source": [
    "## Exercises"
   ]
  },
  {
   "cell_type": "markdown",
   "metadata": {},
   "source": [
    "Using the variable `totalwgt_lb`, investigate whether first babies are lighter or heavier than others. \n",
    "\n",
    "Compute Cohen’s effect size to quantify the difference between the groups.  How does it compare to the difference in pregnancy length?"
   ]
  },
  {
   "cell_type": "code",
   "execution_count": 3,
   "metadata": {},
   "outputs": [
    {
     "data": {
      "image/png": "[encoded data removed]",
      "text/plain": [
       "<Figure size 432x288 with 1 Axes>"
      ]
     },
     "metadata": {
      "needs_background": "light"
     },
     "output_type": "display_data"
    },
    {
     "data": {
      "text/plain": [
       "<Figure size 576x432 with 0 Axes>"
      ]
     },
     "metadata": {},
     "output_type": "display_data"
    }
   ],
   "source": [
    "import thinkstats2\n",
    "import thinkplot\n",
    "import numpy as np\n",
    "import nsfg\n",
    "preg = nsfg.ReadFemPreg()\n",
    "\n",
    "# filter out not live baby\n",
    "live = preg[preg.outcome == 1]\n",
    "\n",
    "# further extracting\n",
    "firsts = live[live.birthord == 1]\n",
    "others = live[live.birthord != 1]\n",
    "\n",
    "# Investigate whether first babies are lighter or heavier than others\n",
    "\n",
    "## Round the data down\n",
    "firsts_wgt = np.floor(firsts.totalwgt_lb)\n",
    "others_wgt = np.floor(others.totalwgt_lb)\n",
    "\n",
    "## Make histogram\n",
    "first_hist = thinkstats2.Hist(firsts_wgt, label='first')\n",
    "other_hist = thinkstats2.Hist(others_wgt, label='other')\n",
    "\n",
    "width = 0.45\n",
    "thinkplot.PrePlot(2)\n",
    "thinkplot.Hist(first_hist, align='right', width=width)\n",
    "thinkplot.Hist(other_hist, align='left', width=width)\n",
    "thinkplot.Show(xlabel='total weight in lbs', ylabel='frequency')"
   ]
  },
  {
   "cell_type": "code",
   "execution_count": 7,
   "metadata": {},
   "outputs": [],
   "source": [
    "# Cohen's Effect\n",
    "import math\n",
    "def CohenEffectSize(group1, group2):\n",
    "    diff = group1.mean() - group2.mean() # set out means for pandas sequences.\n",
    "    \n",
    "    var1 = group1.var() # find out variances\n",
    "    var2 = group2.var()\n",
    "    \n",
    "    n1, n2 = len(group1), len(group2)  # Size included in computation\n",
    "    \n",
    "    pooled_var = (n1 * var1 + n2 * var2) / (n1 + n2) # compute Pooled Variance\n",
    "    \n",
    "    d = diff / math.sqrt(pooled_var)  # Cohen  Difference\n",
    "    \n",
    "    return d"
   ]
  },
  {
   "cell_type": "code",
   "execution_count": 9,
   "metadata": {},
   "outputs": [
    {
     "name": "stdout",
     "output_type": "stream",
     "text": [
      "The cohen's effect of the weight of others and firsts baby: -0.10678966649967156\n",
      "The cohen's effect of the pregnancy length of others and firsts baby: 0.028879044654449883\n"
     ]
    }
   ],
   "source": [
    "print(f\"The cohen's effect of the weight of others and firsts baby: {CohenEffectSize(firsts_wgt, others_wgt)}\")\n",
    "\n",
    "# Compare the difference to pregnancy length\n",
    "print(f\"The cohen's effect of the pregnancy length of others and firsts baby: {CohenEffectSize(firsts.prglngth, others.prglngth)}\")"
   ]
  },
  {
   "cell_type": "markdown",
   "metadata": {},
   "source": [
    "For the next few exercises, we'll load the respondent file:"
   ]
  },
  {
   "cell_type": "code",
   "execution_count": 17,
   "metadata": {},
   "outputs": [],
   "source": [
    "download(\"https://github.com/AllenDowney/ThinkStats2/raw/master/code/2002FemResp.dct\")\n",
    "download(\"https://github.com/AllenDowney/ThinkStats2/raw/master/code/2002FemResp.dat.gz\")"
   ]
  },
  {
   "cell_type": "code",
   "execution_count": 10,
   "metadata": {},
   "outputs": [],
   "source": [
    "resp = nsfg.ReadFemResp()"
   ]
  },
  {
   "cell_type": "markdown",
   "metadata": {},
   "source": [
    "Make a histogram of <tt>totincr</tt> the total income for the respondent's family.  To interpret the codes see the [codebook](http://ftp.cdc.gov/pub/Health_Statistics/NCHS/Dataset_Documentation/NSFG/Cycle6Codebook-Female.pdf)."
   ]
  },
  {
   "cell_type": "code",
   "execution_count": 27,
   "metadata": {},
   "outputs": [
    {
     "name": "stdout",
     "output_type": "stream",
     "text": [
      "Hist({14: 1160, 12: 658, 11: 647, 13: 623, 9: 607, 8: 606, 7: 583, 6: 559, 10: 468, 5: 445, 4: 421, 2: 301, 1: 299, 3: 266})\n"
     ]
    },
    {
     "data": {
      "image/png": "[encoded data removed]",
      "text/plain": [
       "<Figure size 432x288 with 1 Axes>"
      ]
     },
     "metadata": {
      "needs_background": "light"
     },
     "output_type": "display_data"
    },
    {
     "data": {
      "text/plain": [
       "<Figure size 576x432 with 0 Axes>"
      ]
     },
     "metadata": {},
     "output_type": "display_data"
    }
   ],
   "source": [
    "import thinkstats2\n",
    "import thinkplot\n",
    "\n",
    "# make histogram\n",
    "hist = thinkstats2.Hist(resp.totincr)\n",
    "print(hist)\n",
    "thinkplot.Hist(hist)\n",
    "thinkplot.Show(xlabel='total income level', ylabel='frequency')"
   ]
  },
  {
   "cell_type": "markdown",
   "metadata": {},
   "source": [
    "Make a histogram of <tt>age_r</tt>, the respondent's age at the time of interview."
   ]
  },
  {
   "cell_type": "code",
   "execution_count": 13,
   "metadata": {},
   "outputs": [
    {
     "name": "stdout",
     "output_type": "stream",
     "text": [
      "Hist({30: 292, 22: 287, 23: 282, 31: 278, 32: 273, 37: 271, 24: 269, 25: 267, 21: 267, 36: 266, 35: 262, 29: 262, 26: 260, 20: 258, 33: 257, 38: 256, 40: 256, 27: 255, 34: 255, 43: 253, 28: 252, 41: 250, 19: 241, 18: 235, 44: 235, 17: 234, 16: 223, 15: 217, 42: 215, 39: 215})\n"
     ]
    },
    {
     "data": {
      "image/png": "[encoded data removed]",
      "text/plain": [
       "<Figure size 432x288 with 1 Axes>"
      ]
     },
     "metadata": {
      "needs_background": "light"
     },
     "output_type": "display_data"
    },
    {
     "data": {
      "text/plain": [
       "<Figure size 576x432 with 0 Axes>"
      ]
     },
     "metadata": {},
     "output_type": "display_data"
    }
   ],
   "source": [
    "import thinkstats2\n",
    "import thinkplot\n",
    "\n",
    "# Make histogram\n",
    "hist = thinkstats2.Hist(resp.age_r)\n",
    "print(hist)\n",
    "thinkplot.Hist(hist)\n",
    "thinkplot.Show(xlabel='age', ylabel='frequency')"
   ]
  },
  {
   "cell_type": "markdown",
   "metadata": {},
   "source": [
    "Make a histogram of <tt>numfmhh</tt>, the number of people in the respondent's household."
   ]
  },
  {
   "cell_type": "code",
   "execution_count": 14,
   "metadata": {},
   "outputs": [
    {
     "name": "stdout",
     "output_type": "stream",
     "text": [
      "Hist({2: 1826, 3: 1740, 1: 1716, 0: 942, 4: 906, 5: 313, 6: 118, 7: 78, 8: 4})\n"
     ]
    },
    {
     "data": {
      "image/png": "[encoded data removed]",
      "text/plain": [
       "<Figure size 432x288 with 1 Axes>"
      ]
     },
     "metadata": {
      "needs_background": "light"
     },
     "output_type": "display_data"
    },
    {
     "data": {
      "text/plain": [
       "<Figure size 576x432 with 0 Axes>"
      ]
     },
     "metadata": {},
     "output_type": "display_data"
    }
   ],
   "source": [
    "import thinkstats2\n",
    "import thinkplot\n",
    "\n",
    "# Make histogram\n",
    "hist = thinkstats2.Hist(resp.numfmhh)\n",
    "print(hist)\n",
    "thinkplot.Hist(hist)\n",
    "thinkplot.Show(xlabel=\"number of people in the respondent's household\", ylabel='frequency')"
   ]
  },
  {
   "cell_type": "markdown",
   "metadata": {},
   "source": [
    "Make a histogram of <tt>parity</tt>, the number of children borne by the respondent.  How would you describe this distribution?"
   ]
  },
  {
   "cell_type": "code",
   "execution_count": 15,
   "metadata": {},
   "outputs": [
    {
     "name": "stdout",
     "output_type": "stream",
     "text": [
      "Hist({0: 3230, 2: 1603, 1: 1519, 3: 828, 4: 309, 5: 95, 6: 29, 7: 15, 8: 8, 10: 3, 9: 2, 22: 1, 16: 1})\n"
     ]
    },
    {
     "data": {
      "image/png": "[encoded data removed]",
      "text/plain": [
       "<Figure size 432x288 with 1 Axes>"
      ]
     },
     "metadata": {
      "needs_background": "light"
     },
     "output_type": "display_data"
    },
    {
     "data": {
      "text/plain": [
       "<Figure size 576x432 with 0 Axes>"
      ]
     },
     "metadata": {},
     "output_type": "display_data"
    }
   ],
   "source": [
    "import thinkstats2\n",
    "import thinkplot\n",
    "\n",
    "# Make histogram\n",
    "hist = thinkstats2.Hist(resp.parity)\n",
    "print(hist)\n",
    "thinkplot.Hist(hist)\n",
    "thinkplot.Show(xlabel=\"number of children borne by the respondent\", ylabel='frequency')"
   ]
  },
  {
   "cell_type": "markdown",
   "metadata": {},
   "source": [
    "Use Hist.Largest to find the largest values of <tt>parity</tt>."
   ]
  },
  {
   "cell_type": "code",
   "execution_count": 21,
   "metadata": {},
   "outputs": [
    {
     "name": "stdout",
     "output_type": "stream",
     "text": [
      "The largest parities: 22\n"
     ]
    }
   ],
   "source": [
    "hist = thinkstats2.Hist(resp.parity)\n",
    "print(f\"The largest parities: {hist.Largest(1)[0][0]}\")"
   ]
  },
  {
   "cell_type": "markdown",
   "metadata": {},
   "source": [
    "Let's investigate whether people with higher income have higher parity.  Keep in mind that in this study, we are observing different people at different times during their lives, so this data is not the best choice for answering this question.  But for now let's take it at face value.\n",
    "\n",
    "Use <tt>totincr</tt> to select the respondents with the highest income (level 14).  Plot the histogram of <tt>parity</tt> for just the high income respondents."
   ]
  },
  {
   "cell_type": "code",
   "execution_count": 17,
   "metadata": {},
   "outputs": [
    {
     "name": "stdout",
     "output_type": "stream",
     "text": [
      "Hist({0: 515, 2: 267, 1: 229, 3: 123, 4: 19, 5: 5, 8: 1, 7: 1})\n"
     ]
    },
    {
     "data": {
      "image/png": "[encoded data removed]",
      "text/plain": [
       "<Figure size 432x288 with 1 Axes>"
      ]
     },
     "metadata": {
      "needs_background": "light"
     },
     "output_type": "display_data"
    },
    {
     "data": {
      "text/plain": [
       "<Figure size 576x432 with 0 Axes>"
      ]
     },
     "metadata": {},
     "output_type": "display_data"
    }
   ],
   "source": [
    "import thinkstats2\n",
    "import thinkplot\n",
    "\n",
    "highest_inc = resp[resp.totincr == 14]\n",
    "\n",
    "# Make histogram\n",
    "hist = thinkstats2.Hist(highest_inc.parity)\n",
    "print(hist)\n",
    "thinkplot.Hist(hist)\n",
    "thinkplot.Show(xlabel=\"number of children borne by resp with highest income\", ylabel='frequency')"
   ]
  },
  {
   "cell_type": "markdown",
   "metadata": {},
   "source": [
    "Find the largest parities for high income respondents."
   ]
  },
  {
   "cell_type": "code",
   "execution_count": 20,
   "metadata": {},
   "outputs": [
    {
     "name": "stdout",
     "output_type": "stream",
     "text": [
      "The largest parities for high income resp: 8\n"
     ]
    }
   ],
   "source": [
    "hist = thinkstats2.Hist(highest_inc.parity)\n",
    "print(f\"The largest parities for high income resp: {hist.Largest(1)[0][0]}\")"
   ]
  },
  {
   "cell_type": "markdown",
   "metadata": {},
   "source": [
    "Compare the mean <tt>parity</tt> for high income respondents and others."
   ]
  },
  {
   "cell_type": "code",
   "execution_count": 28,
   "metadata": {},
   "outputs": [
    {
     "name": "stdout",
     "output_type": "stream",
     "text": [
      "Mean difference of parity = 0.17371374470099532\n"
     ]
    }
   ],
   "source": [
    "from math import sqrt\n",
    "highest_inc = resp[resp.totincr == 14]\n",
    "others = resp[resp.totincr !=14]\n",
    "\n",
    "highest_inc_mean = highest_inc.parity.mean()\n",
    "others_mean = others.parity.mean()\n",
    "diff = sqrt((highest_inc_mean - others_mean)**2)\n",
    "print(f'Mean difference of parity = {diff}')"
   ]
  },
  {
   "cell_type": "code",
   "execution_count": 24,
   "metadata": {},
   "outputs": [
    {
     "name": "stdout",
     "output_type": "stream",
     "text": [
      "Cohen's effect = -0.1251185531466061\n"
     ]
    }
   ],
   "source": [
    "print(f\"Cohen's effect = {CohenEffectSize(highest_inc.parity, others.parity)}\")"
   ]
  }
 ],
 "metadata": {
  "kernelspec": {
   "display_name": "Python 3 (ipykernel)",
   "language": "python",
   "name": "python3"
  },
  "language_info": {
   "codemirror_mode": {
    "name": "ipython",
    "version": 3
   },
   "file_extension": ".py",
   "mimetype": "text/x-python",
   "name": "python",
   "nbconvert_exporter": "python",
   "pygments_lexer": "ipython3",
   "version": "3.9.12"
  }
 },
 "nbformat": 4,
 "nbformat_minor": 1
}
